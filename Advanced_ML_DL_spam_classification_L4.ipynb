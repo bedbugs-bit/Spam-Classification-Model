{
 "cells": [
  {
   "cell_type": "markdown",
   "metadata": {
    "id": "vdaqf6vgTTg4"
   },
   "source": [
    "<p style=\"text-align:center\">\n",
    "    <a href=\"https://skills.network/?utm_medium=Exinfluencer&utm_source=Exinfluencer&utm_content=000026UJ&utm_term=10006555&utm_id=NA-SkillsNetwork-Channel-SkillsNetworkQuickLabsAdvanced_ML_DL_spam_classification_L427910497-2022-01-01\" target=\"_blank\">\n",
    "    <img src=\"https://cf-courses-data.s3.us.cloud-object-storage.appdomain.cloud/assets/logos/SN_web_lightmode.png\" width=\"200\" alt=\"Skills Network Logo\"  />\n",
    "    </a>\n",
    "</p>\n"
   ]
  },
  {
   "cell_type": "markdown",
   "metadata": {
    "id": "y2VgPk2mTThF"
   },
   "source": [
    "# **SPAM classification task**\n"
   ]
  },
  {
   "cell_type": "markdown",
   "metadata": {
    "id": "jkRBtAnQTThK"
   },
   "source": [
    "The purpose of this lab is to build Machine & Deep Learning models at the interface of `NLP` and `Network Security` areas through the use of `SMS Spam Collection dataset` with helping frameworks & libraries.\n",
    "\n",
    "After completing this lab, you will be able to:\n",
    "\n",
    "1.  Quickly explore the SMS Spam Collection dataset and build the best models with the help of functional programming and layer-by-layer model description to solve a SPAM classification task.\n",
    "2.  Show different calculated metrics of the built models.\n",
    "3.  Change values of some hyperparameters for model training process improving to achieve better results.\n",
    "4.  Visualize the data analysis results with various plot types.\n"
   ]
  },
  {
   "cell_type": "markdown",
   "metadata": {
    "id": "CHwOXFUpTThK"
   },
   "source": [
    "## Agenda\n"
   ]
  },
  {
   "cell_type": "markdown",
   "metadata": {
    "id": "bHSc4iksTThP"
   },
   "source": [
    "*   Theory and Methods\n",
    "*   General part\n",
    "    *   Import required libraries and dataset\n",
    "    *   Some additional & preparing actions & add functions\n",
    "    *   Reading the Dataset\n",
    "    *   Dataset manipulations & simple EDA\n",
    "    *   Dataset size & feature names\n",
    "    *   Dataset primary statistics\n",
    "    *   Part A. Advanced Machine Learning for SPAM classification task\n",
    "    *   Part B. Advanced Deep Learning for SPAM classification task\n",
    "*   Author\n"
   ]
  },
  {
   "cell_type": "markdown",
   "metadata": {
    "id": "S4t5rpwITThQ"
   },
   "source": [
    "***\n"
   ]
  },
  {
   "cell_type": "markdown",
   "metadata": {
    "id": "KoNAvKmglBm-"
   },
   "source": [
    "## Theory and Methods\n"
   ]
  },
  {
   "cell_type": "markdown",
   "metadata": {
    "id": "ZOgyr5RSlI40"
   },
   "source": [
    "The basics of natural language processing (NLP)\n",
    "\n",
    "The data that we are going to use for this is a subset of an open source default of `SMS Spam Collection dataset`, which contains SMS text examples and its corresponding labels (or tags: `Spam` and `Ham`). The file contains one message per line. Each line consists of two columns: v1 contains the label (`ham` or `spam`) and v2 contains the raw text.\n",
    "\n",
    "This corpus has been collected from free or free for research sources on the Internet:\n",
    "\n",
    "*   A collection of 425 SMS spam messages was manually extracted from the Grumbletext website. This is a UK forum where cell phone users make public claims about SMS spam messages, most of them without reporting the very spam message received. The identification of spam messages texts in the claims is a very hard and time-consuming task, and it involved carefully scanning hundreds of web pages. The Grumbletext website is: [Web Link](http://www.grumbletext.co.uk/?utm_medium=Exinfluencer&utm_source=Exinfluencer&utm_content=000026UJ&utm_term=10006555&utm_id=NA-SkillsNetwork-Channel-SkillsNetworkQuickLabsAdvanced_ML_DL_spam_classification_L427910497-2022-01-01).\n",
    "*   A subset of 3,375 SMS randomly chosen ham messages of the NUS SMS Corpus (NSC), which is a dataset of about 10,000 legitimate messages collected for research at the Department of Computer Science at the National University of Singapore. The messages largely originate from Singaporeans and mostly from students attending the University. These messages were collected from volunteers who were made aware that their contributions were going to be made publicly available. The NUS SMS Corpus is avalaible at: [Web Link](http://www.comp.nus.edu.sg/\\~rpnlpir/downloads/corpora/smsCorpus/?utm_medium=Exinfluencer&utm_source=Exinfluencer&utm_content=000026UJ&utm_term=10006555&utm_id=NA-SkillsNetwork-Channel-SkillsNetworkQuickLabsAdvanced_ML_DL_spam_classification_L427910497-2022-01-01).\n",
    "*   A list of 450 SMS ham messages collected from Caroline Tag's PhD Thesis is available at [Web Link](http://etheses.bham.ac.uk/253/1/Tagg09PhD.pdf?utm_medium=Exinfluencer&utm_source=Exinfluencer&utm_content=000026UJ&utm_term=10006555&utm_id=NA-SkillsNetwork-Channel-SkillsNetworkQuickLabsAdvanced_ML_DL_spam_classification_L427910497-2022-01-01).\n",
    "*   Finally, we have incorporated the SMS Spam Corpus v.0.1 Big. It has 1,002 SMS ham messages and 322 spam messages and it is public available at: [Web Link](http://www.esp.uem.es/jmgomez/smsspamcorpus/?utm_medium=Exinfluencer&utm_source=Exinfluencer&utm_content=000026UJ&utm_term=10006555&utm_id=NA-SkillsNetwork-Channel-SkillsNetworkQuickLabsAdvanced_ML_DL_spam_classification_L427910497-2022-01-01).\n",
    "\n",
    "The original dataset can be found [here](https://archive.ics.uci.edu/ml/datasets/SMS+Spam+Collection?utm_medium=Exinfluencer&utm_source=Exinfluencer&utm_content=000026UJ&utm_term=10006555&utm_id=NA-SkillsNetwork-Channel-SkillsNetworkQuickLabsAdvanced_ML_DL_spam_classification_L427910497-2022-01-01). The creators would like to note that in case you find the dataset useful, please, make a reference to the previous paper and the [web page](http://www.dt.fee.unicamp.br/\\~tiago/smsspamcollection/) in your papers, research, etc.\n",
    "\n",
    "This work presents a number of statistics, studies and baseline results for a few machine learning methods.\n",
    "\n",
    "***\n",
    "\n",
    "Almeida, T.A., GÃ³mez Hidalgo, J.M., Yamakami, A. Contributions to the Study  of SMS Spam Filtering: New Collection and Results. Proceedings of the 2011 ACM Symposium on Document Engineering (DOCENG'11), Mountain View, CA, USA, 2011.\n",
    "\n",
    "***\n",
    "\n",
    "In addition, we will build a visualization of our results, specifically the obtained metrics (accuracy and loss), to choose the best model for further saving and forecasting based on this saved model.\n"
   ]
  },
  {
   "cell_type": "markdown",
   "metadata": {
    "id": "xS8UOiQOTThR"
   },
   "source": [
    "## Import required libraries and dataset\n"
   ]
  },
  {
   "cell_type": "markdown",
   "metadata": {
    "id": "wr92Q0Cd3d7f"
   },
   "source": [
    "You can find the main file of the dataset by this link: [https://www.kaggle.com/uciml/sms-spam-collection-dataset?select=spam.csv](https://www.kaggle.com/uciml/sms-spam-collection-dataset?utm_medium=Exinfluencer&utm_source=Exinfluencer&utm_content=000026UJ&utm_term=10006555&utm_id=NA-SkillsNetwork-Channel-SkillsNetworkQuickLabsAdvanced_ML_DL_spam_classification_L427910497-2022-01-01&select=spam.csv)\n"
   ]
  },
  {
   "cell_type": "markdown",
   "metadata": {
    "id": "-BnB2tiSZh4R"
   },
   "source": [
    "Alternative URL for downloading of the dataset.\n"
   ]
  },
  {
   "cell_type": "code",
   "execution_count": 1,
   "metadata": {
    "id": "ORfD1EUiZuLK",
    "tags": []
   },
   "outputs": [
    {
     "name": "stdout",
     "output_type": "stream",
     "text": [
      "--2024-02-06 11:04:45--  https://cf-courses-data.s3.us.cloud-object-storage.appdomain.cloud/Advanced_ML_DL_spam_classification_L4/spam.csv\n",
      "Resolving cf-courses-data.s3.us.cloud-object-storage.appdomain.cloud (cf-courses-data.s3.us.cloud-object-storage.appdomain.cloud)... 169.63.118.104, 169.63.118.104\n",
      "Connecting to cf-courses-data.s3.us.cloud-object-storage.appdomain.cloud (cf-courses-data.s3.us.cloud-object-storage.appdomain.cloud)|169.63.118.104|:443... connected.\n",
      "HTTP request sent, awaiting response... 200 OK\n",
      "Length: 503663 (492K) [text/csv]\n",
      "Saving to: ‘spam.csv.2’\n",
      "\n",
      "spam.csv.2          100%[===================>] 491.86K  --.-KB/s    in 0.01s   \n",
      "\n",
      "2024-02-06 11:04:45 (36.8 MB/s) - ‘spam.csv.2’ saved [503663/503663]\n",
      "\n"
     ]
    }
   ],
   "source": [
    "!wget https://cf-courses-data.s3.us.cloud-object-storage.appdomain.cloud/Advanced_ML_DL_spam_classification_L4/spam.csv"
   ]
  },
  {
   "cell_type": "markdown",
   "metadata": {
    "id": "eGH5DhdLHmOp"
   },
   "source": [
    "Import the necessary libraries to use in this lab. We can add some aliases (such as pd, plt, np, tf) to make the libraries easier to use in our code and set a default figure size for further plots. Ignore the warnings.\n"
   ]
  },
  {
   "cell_type": "code",
   "execution_count": 2,
   "metadata": {
    "id": "YkSUK1leF9Lg",
    "tags": []
   },
   "outputs": [
    {
     "name": "stdout",
     "output_type": "stream",
     "text": [
      "Collecting nltk\n",
      "  Downloading nltk-3.8.1-py3-none-any.whl (1.5 MB)\n",
      "\u001b[2K     \u001b[90m━━━━━━━━━━━━━━━━━━━━━━━━━━━━━━━━━━━━━━━━\u001b[0m \u001b[32m1.5/1.5 MB\u001b[0m \u001b[31m54.2 MB/s\u001b[0m eta \u001b[36m0:00:00\u001b[0m\n",
      "\u001b[?25hRequirement already satisfied: click in /home/jupyterlab/conda/envs/python/lib/python3.7/site-packages (from nltk) (8.1.3)\n",
      "Collecting joblib (from nltk)\n",
      "  Downloading joblib-1.3.2-py3-none-any.whl (302 kB)\n",
      "\u001b[2K     \u001b[90m━━━━━━━━━━━━━━━━━━━━━━━━━━━━━━━━━━━━━━\u001b[0m \u001b[32m302.2/302.2 kB\u001b[0m \u001b[31m48.3 MB/s\u001b[0m eta \u001b[36m0:00:00\u001b[0m\n",
      "\u001b[?25hCollecting regex>=2021.8.3 (from nltk)\n",
      "  Downloading regex-2023.12.25-cp37-cp37m-manylinux_2_17_x86_64.manylinux2014_x86_64.whl (761 kB)\n",
      "\u001b[2K     \u001b[90m━━━━━━━━━━━━━━━━━━━━━━━━━━━━━━━━━━━━━━\u001b[0m \u001b[32m761.6/761.6 kB\u001b[0m \u001b[31m69.6 MB/s\u001b[0m eta \u001b[36m0:00:00\u001b[0m\n",
      "\u001b[?25hRequirement already satisfied: tqdm in /home/jupyterlab/conda/envs/python/lib/python3.7/site-packages (from nltk) (4.60.0)\n",
      "Requirement already satisfied: importlib-metadata in /home/jupyterlab/conda/envs/python/lib/python3.7/site-packages (from click->nltk) (4.11.4)\n",
      "Requirement already satisfied: zipp>=0.5 in /home/jupyterlab/conda/envs/python/lib/python3.7/site-packages (from importlib-metadata->click->nltk) (3.15.0)\n",
      "Requirement already satisfied: typing-extensions>=3.6.4 in /home/jupyterlab/conda/envs/python/lib/python3.7/site-packages (from importlib-metadata->click->nltk) (4.5.0)\n",
      "Installing collected packages: regex, joblib, nltk\n",
      "Successfully installed joblib-1.3.2 nltk-3.8.1 regex-2023.12.25\n",
      "Collecting wordcloud\n",
      "  Downloading wordcloud-1.9.3-cp37-cp37m-manylinux_2_17_x86_64.manylinux2014_x86_64.whl (489 kB)\n",
      "\u001b[2K     \u001b[90m━━━━━━━━━━━━━━━━━━━━━━━━━━━━━━━━━━━━━━\u001b[0m \u001b[32m489.4/489.4 kB\u001b[0m \u001b[31m45.3 MB/s\u001b[0m eta \u001b[36m0:00:00\u001b[0m\n",
      "\u001b[?25hRequirement already satisfied: numpy>=1.6.1 in /home/jupyterlab/conda/envs/python/lib/python3.7/site-packages (from wordcloud) (1.21.6)\n",
      "Requirement already satisfied: pillow in /home/jupyterlab/conda/envs/python/lib/python3.7/site-packages (from wordcloud) (8.1.0)\n",
      "Requirement already satisfied: matplotlib in /home/jupyterlab/conda/envs/python/lib/python3.7/site-packages (from wordcloud) (3.5.3)\n",
      "Requirement already satisfied: cycler>=0.10 in /home/jupyterlab/conda/envs/python/lib/python3.7/site-packages (from matplotlib->wordcloud) (0.11.0)\n",
      "Requirement already satisfied: fonttools>=4.22.0 in /home/jupyterlab/conda/envs/python/lib/python3.7/site-packages (from matplotlib->wordcloud) (4.38.0)\n",
      "Requirement already satisfied: kiwisolver>=1.0.1 in /home/jupyterlab/conda/envs/python/lib/python3.7/site-packages (from matplotlib->wordcloud) (1.4.4)\n",
      "Requirement already satisfied: packaging>=20.0 in /home/jupyterlab/conda/envs/python/lib/python3.7/site-packages (from matplotlib->wordcloud) (23.1)\n",
      "Requirement already satisfied: pyparsing>=2.2.1 in /home/jupyterlab/conda/envs/python/lib/python3.7/site-packages (from matplotlib->wordcloud) (3.0.9)\n",
      "Requirement already satisfied: python-dateutil>=2.7 in /home/jupyterlab/conda/envs/python/lib/python3.7/site-packages (from matplotlib->wordcloud) (2.8.2)\n",
      "Requirement already satisfied: typing-extensions in /home/jupyterlab/conda/envs/python/lib/python3.7/site-packages (from kiwisolver>=1.0.1->matplotlib->wordcloud) (4.5.0)\n",
      "Requirement already satisfied: six>=1.5 in /home/jupyterlab/conda/envs/python/lib/python3.7/site-packages (from python-dateutil>=2.7->matplotlib->wordcloud) (1.16.0)\n",
      "Installing collected packages: wordcloud\n",
      "Successfully installed wordcloud-1.9.3\n",
      "Collecting tensorflow==2.4\n",
      "  Downloading tensorflow-2.4.0-cp37-cp37m-manylinux2010_x86_64.whl (394.7 MB)\n",
      "\u001b[2K     \u001b[90m━━━━━━━━━━━━━━━━━━━━━━━━━━━━━━━━━━━━━\u001b[0m \u001b[32m394.7/394.7 MB\u001b[0m \u001b[31m868.6 kB/s\u001b[0m eta \u001b[36m0:00:00\u001b[0m00:01\u001b[0m00:01\u001b[0m\n",
      "\u001b[?25hCollecting absl-py~=0.10 (from tensorflow==2.4)\n",
      "  Downloading absl_py-0.15.0-py3-none-any.whl (132 kB)\n",
      "\u001b[2K     \u001b[90m━━━━━━━━━━━━━━━━━━━━━━━━━━━━━━━━━━━━━━\u001b[0m \u001b[32m132.0/132.0 kB\u001b[0m \u001b[31m23.6 MB/s\u001b[0m eta \u001b[36m0:00:00\u001b[0m\n",
      "\u001b[?25hCollecting astunparse~=1.6.3 (from tensorflow==2.4)\n",
      "  Downloading astunparse-1.6.3-py2.py3-none-any.whl (12 kB)\n",
      "Collecting flatbuffers~=1.12.0 (from tensorflow==2.4)\n",
      "  Downloading flatbuffers-1.12-py2.py3-none-any.whl (15 kB)\n",
      "Requirement already satisfied: google-pasta~=0.2 in /home/jupyterlab/conda/envs/python/lib/python3.7/site-packages (from tensorflow==2.4) (0.2.0)\n",
      "Collecting h5py~=2.10.0 (from tensorflow==2.4)\n",
      "  Downloading h5py-2.10.0-cp37-cp37m-manylinux1_x86_64.whl (2.9 MB)\n",
      "\u001b[2K     \u001b[90m━━━━━━━━━━━━━━━━━━━━━━━━━━━━━━━━━━━━━━━━\u001b[0m \u001b[32m2.9/2.9 MB\u001b[0m \u001b[31m37.3 MB/s\u001b[0m eta \u001b[36m0:00:00\u001b[0m00:01\u001b[0m\n",
      "\u001b[?25hRequirement already satisfied: keras-preprocessing~=1.1.2 in /home/jupyterlab/conda/envs/python/lib/python3.7/site-packages (from tensorflow==2.4) (1.1.2)\n",
      "Collecting numpy~=1.19.2 (from tensorflow==2.4)\n",
      "  Downloading numpy-1.19.5-cp37-cp37m-manylinux2010_x86_64.whl (14.8 MB)\n",
      "\u001b[2K     \u001b[90m━━━━━━━━━━━━━━━━━━━━━━━━━━━━━━━━━━━━━━━━\u001b[0m \u001b[32m14.8/14.8 MB\u001b[0m \u001b[31m53.6 MB/s\u001b[0m eta \u001b[36m0:00:00\u001b[0m00:01\u001b[0m00:01\u001b[0m\n",
      "\u001b[?25hCollecting opt-einsum~=3.3.0 (from tensorflow==2.4)\n",
      "  Downloading opt_einsum-3.3.0-py3-none-any.whl (65 kB)\n",
      "\u001b[2K     \u001b[90m━━━━━━━━━━━━━━━━━━━━━━━━━━━━━━━━━━━━━━━━\u001b[0m \u001b[32m65.5/65.5 kB\u001b[0m \u001b[31m15.8 MB/s\u001b[0m eta \u001b[36m0:00:00\u001b[0m\n",
      "\u001b[?25hRequirement already satisfied: protobuf>=3.9.2 in /home/jupyterlab/conda/envs/python/lib/python3.7/site-packages (from tensorflow==2.4) (4.21.8)\n",
      "Collecting six~=1.15.0 (from tensorflow==2.4)\n",
      "  Downloading six-1.15.0-py2.py3-none-any.whl (10 kB)\n",
      "Collecting termcolor~=1.1.0 (from tensorflow==2.4)\n",
      "  Downloading termcolor-1.1.0.tar.gz (3.9 kB)\n",
      "  Preparing metadata (setup.py) ... \u001b[?25ldone\n",
      "\u001b[?25hCollecting typing-extensions~=3.7.4 (from tensorflow==2.4)\n",
      "  Downloading typing_extensions-3.7.4.3-py3-none-any.whl (22 kB)\n",
      "Requirement already satisfied: wheel~=0.35 in /home/jupyterlab/conda/envs/python/lib/python3.7/site-packages (from tensorflow==2.4) (0.40.0)\n",
      "Collecting wrapt~=1.12.1 (from tensorflow==2.4)\n",
      "  Downloading wrapt-1.12.1.tar.gz (27 kB)\n",
      "  Preparing metadata (setup.py) ... \u001b[?25ldone\n",
      "\u001b[?25hCollecting gast==0.3.3 (from tensorflow==2.4)\n",
      "  Downloading gast-0.3.3-py2.py3-none-any.whl (9.7 kB)\n",
      "Collecting tensorboard~=2.4 (from tensorflow==2.4)\n",
      "  Downloading tensorboard-2.11.2-py3-none-any.whl (6.0 MB)\n",
      "\u001b[2K     \u001b[90m━━━━━━━━━━━━━━━━━━━━━━━━━━━━━━━━━━━━━━━━\u001b[0m \u001b[32m6.0/6.0 MB\u001b[0m \u001b[31m58.8 MB/s\u001b[0m eta \u001b[36m0:00:00\u001b[0m:00:01\u001b[0m00:01\u001b[0m\n",
      "\u001b[?25hCollecting tensorflow-estimator<2.5.0,>=2.4.0rc0 (from tensorflow==2.4)\n",
      "  Downloading tensorflow_estimator-2.4.0-py2.py3-none-any.whl (462 kB)\n",
      "\u001b[2K     \u001b[90m━━━━━━━━━━━━━━━━━━━━━━━━━━━━━━━━━━━━━━\u001b[0m \u001b[32m462.0/462.0 kB\u001b[0m \u001b[31m59.4 MB/s\u001b[0m eta \u001b[36m0:00:00\u001b[0m\n",
      "\u001b[?25hCollecting grpcio~=1.32.0 (from tensorflow==2.4)\n",
      "  Downloading grpcio-1.32.0-cp37-cp37m-manylinux2014_x86_64.whl (3.8 MB)\n",
      "\u001b[2K     \u001b[90m━━━━━━━━━━━━━━━━━━━━━━━━━━━━━━━━━━━━━━━━\u001b[0m \u001b[32m3.8/3.8 MB\u001b[0m \u001b[31m77.6 MB/s\u001b[0m eta \u001b[36m0:00:00\u001b[0m:00:01\u001b[0m\n",
      "\u001b[?25hCollecting google-auth<3,>=1.6.3 (from tensorboard~=2.4->tensorflow==2.4)\n",
      "  Downloading google_auth-2.27.0-py2.py3-none-any.whl (186 kB)\n",
      "\u001b[2K     \u001b[90m━━━━━━━━━━━━━━━━━━━━━━━━━━━━━━━━━━━━━━\u001b[0m \u001b[32m186.8/186.8 kB\u001b[0m \u001b[31m34.4 MB/s\u001b[0m eta \u001b[36m0:00:00\u001b[0m\n",
      "\u001b[?25hCollecting google-auth-oauthlib<0.5,>=0.4.1 (from tensorboard~=2.4->tensorflow==2.4)\n",
      "  Downloading google_auth_oauthlib-0.4.6-py2.py3-none-any.whl (18 kB)\n",
      "Requirement already satisfied: markdown>=2.6.8 in /home/jupyterlab/conda/envs/python/lib/python3.7/site-packages (from tensorboard~=2.4->tensorflow==2.4) (3.4.3)\n",
      "Collecting protobuf>=3.9.2 (from tensorflow==2.4)\n",
      "  Downloading protobuf-3.20.3-cp37-cp37m-manylinux_2_5_x86_64.manylinux1_x86_64.whl (1.0 MB)\n",
      "\u001b[2K     \u001b[90m━━━━━━━━━━━━━━━━━━━━━━━━━━━━━━━━━━━━━━━━\u001b[0m \u001b[32m1.0/1.0 MB\u001b[0m \u001b[31m73.9 MB/s\u001b[0m eta \u001b[36m0:00:00\u001b[0m\n",
      "\u001b[?25hRequirement already satisfied: requests<3,>=2.21.0 in /home/jupyterlab/conda/envs/python/lib/python3.7/site-packages (from tensorboard~=2.4->tensorflow==2.4) (2.29.0)\n",
      "Requirement already satisfied: setuptools>=41.0.0 in /home/jupyterlab/conda/envs/python/lib/python3.7/site-packages (from tensorboard~=2.4->tensorflow==2.4) (67.7.2)\n",
      "Collecting tensorboard-data-server<0.7.0,>=0.6.0 (from tensorboard~=2.4->tensorflow==2.4)\n",
      "  Downloading tensorboard_data_server-0.6.1-py3-none-manylinux2010_x86_64.whl (4.9 MB)\n",
      "\u001b[2K     \u001b[90m━━━━━━━━━━━━━━━━━━━━━━━━━━━━━━━━━━━━━━━━\u001b[0m \u001b[32m4.9/4.9 MB\u001b[0m \u001b[31m72.8 MB/s\u001b[0m eta \u001b[36m0:00:00\u001b[0m:00:01\u001b[0m\n",
      "\u001b[?25hCollecting tensorboard-plugin-wit>=1.6.0 (from tensorboard~=2.4->tensorflow==2.4)\n",
      "  Downloading tensorboard_plugin_wit-1.8.1-py3-none-any.whl (781 kB)\n",
      "\u001b[2K     \u001b[90m━━━━━━━━━━━━━━━━━━━━━━━━━━━━━━━━━━━━━━\u001b[0m \u001b[32m781.3/781.3 kB\u001b[0m \u001b[31m30.4 MB/s\u001b[0m eta \u001b[36m0:00:00\u001b[0m\n",
      "\u001b[?25hRequirement already satisfied: werkzeug>=1.0.1 in /home/jupyterlab/conda/envs/python/lib/python3.7/site-packages (from tensorboard~=2.4->tensorflow==2.4) (2.2.3)\n",
      "Collecting cachetools<6.0,>=2.0.0 (from google-auth<3,>=1.6.3->tensorboard~=2.4->tensorflow==2.4)\n",
      "  Downloading cachetools-5.3.2-py3-none-any.whl (9.3 kB)\n",
      "Requirement already satisfied: pyasn1-modules>=0.2.1 in /home/jupyterlab/conda/envs/python/lib/python3.7/site-packages (from google-auth<3,>=1.6.3->tensorboard~=2.4->tensorflow==2.4) (0.3.0)\n",
      "Collecting rsa<5,>=3.1.4 (from google-auth<3,>=1.6.3->tensorboard~=2.4->tensorflow==2.4)\n",
      "  Downloading rsa-4.9-py3-none-any.whl (34 kB)\n",
      "Collecting requests-oauthlib>=0.7.0 (from google-auth-oauthlib<0.5,>=0.4.1->tensorboard~=2.4->tensorflow==2.4)\n",
      "  Downloading requests_oauthlib-1.3.1-py2.py3-none-any.whl (23 kB)\n",
      "Requirement already satisfied: importlib-metadata>=4.4 in /home/jupyterlab/conda/envs/python/lib/python3.7/site-packages (from markdown>=2.6.8->tensorboard~=2.4->tensorflow==2.4) (4.11.4)\n",
      "Requirement already satisfied: charset-normalizer<4,>=2 in /home/jupyterlab/conda/envs/python/lib/python3.7/site-packages (from requests<3,>=2.21.0->tensorboard~=2.4->tensorflow==2.4) (3.1.0)\n",
      "Requirement already satisfied: idna<4,>=2.5 in /home/jupyterlab/conda/envs/python/lib/python3.7/site-packages (from requests<3,>=2.21.0->tensorboard~=2.4->tensorflow==2.4) (3.4)\n",
      "Requirement already satisfied: urllib3<1.27,>=1.21.1 in /home/jupyterlab/conda/envs/python/lib/python3.7/site-packages (from requests<3,>=2.21.0->tensorboard~=2.4->tensorflow==2.4) (1.26.15)\n",
      "Requirement already satisfied: certifi>=2017.4.17 in /home/jupyterlab/conda/envs/python/lib/python3.7/site-packages (from requests<3,>=2.21.0->tensorboard~=2.4->tensorflow==2.4) (2023.5.7)\n",
      "Requirement already satisfied: MarkupSafe>=2.1.1 in /home/jupyterlab/conda/envs/python/lib/python3.7/site-packages (from werkzeug>=1.0.1->tensorboard~=2.4->tensorflow==2.4) (2.1.1)\n",
      "Requirement already satisfied: zipp>=0.5 in /home/jupyterlab/conda/envs/python/lib/python3.7/site-packages (from importlib-metadata>=4.4->markdown>=2.6.8->tensorboard~=2.4->tensorflow==2.4) (3.15.0)\n",
      "Requirement already satisfied: pyasn1<0.6.0,>=0.4.6 in /home/jupyterlab/conda/envs/python/lib/python3.7/site-packages (from pyasn1-modules>=0.2.1->google-auth<3,>=1.6.3->tensorboard~=2.4->tensorflow==2.4) (0.5.0)\n",
      "Collecting oauthlib>=3.0.0 (from requests-oauthlib>=0.7.0->google-auth-oauthlib<0.5,>=0.4.1->tensorboard~=2.4->tensorflow==2.4)\n",
      "  Downloading oauthlib-3.2.2-py3-none-any.whl (151 kB)\n",
      "\u001b[2K     \u001b[90m━━━━━━━━━━━━━━━━━━━━━━━━━━━━━━━━━━━━━━\u001b[0m \u001b[32m151.7/151.7 kB\u001b[0m \u001b[31m32.7 MB/s\u001b[0m eta \u001b[36m0:00:00\u001b[0m\n",
      "\u001b[?25hBuilding wheels for collected packages: termcolor, wrapt\n",
      "  Building wheel for termcolor (setup.py) ... \u001b[?25ldone\n",
      "\u001b[?25h  Created wheel for termcolor: filename=termcolor-1.1.0-py3-none-any.whl size=4832 sha256=588229663c8ae15687af94a3d5e95a890309c3443f3f640a28f72fa262147642\n",
      "  Stored in directory: /home/jupyterlab/.cache/pip/wheels/3f/e3/ec/8a8336ff196023622fbcb36de0c5a5c218cbb24111d1d4c7f2\n",
      "  Building wheel for wrapt (setup.py) ... \u001b[?25ldone\n",
      "\u001b[?25h  Created wheel for wrapt: filename=wrapt-1.12.1-cp37-cp37m-linux_x86_64.whl size=36029 sha256=f50730974b3999b58c560a5b72d107452354271e0d88e9628e5358f37847c292\n",
      "  Stored in directory: /home/jupyterlab/.cache/pip/wheels/62/76/4c/aa25851149f3f6d9785f6c869387ad82b3fd37582fa8147ac6\n",
      "Successfully built termcolor wrapt\n",
      "Installing collected packages: wrapt, typing-extensions, termcolor, tensorflow-estimator, tensorboard-plugin-wit, flatbuffers, tensorboard-data-server, six, rsa, protobuf, oauthlib, numpy, gast, cachetools, requests-oauthlib, opt-einsum, h5py, grpcio, google-auth, astunparse, absl-py, google-auth-oauthlib, tensorboard, tensorflow\n",
      "  Attempting uninstall: wrapt\n",
      "    Found existing installation: wrapt 1.14.1\n",
      "    Uninstalling wrapt-1.14.1:\n",
      "      Successfully uninstalled wrapt-1.14.1\n",
      "  Attempting uninstall: typing-extensions\n",
      "    Found existing installation: typing_extensions 4.5.0\n",
      "    Uninstalling typing_extensions-4.5.0:\n",
      "      Successfully uninstalled typing_extensions-4.5.0\n",
      "  Attempting uninstall: termcolor\n",
      "    Found existing installation: termcolor 2.3.0\n",
      "    Uninstalling termcolor-2.3.0:\n",
      "      Successfully uninstalled termcolor-2.3.0\n",
      "  Attempting uninstall: tensorflow-estimator\n",
      "    Found existing installation: tensorflow-estimator 1.14.0\n",
      "    Uninstalling tensorflow-estimator-1.14.0:\n",
      "      Successfully uninstalled tensorflow-estimator-1.14.0\n",
      "  Attempting uninstall: six\n",
      "    Found existing installation: six 1.16.0\n",
      "    Uninstalling six-1.16.0:\n",
      "      Successfully uninstalled six-1.16.0\n",
      "  Attempting uninstall: protobuf\n",
      "    Found existing installation: protobuf 4.21.8\n",
      "    Uninstalling protobuf-4.21.8:\n",
      "      Successfully uninstalled protobuf-4.21.8\n",
      "  Attempting uninstall: numpy\n",
      "    Found existing installation: numpy 1.21.6\n",
      "    Uninstalling numpy-1.21.6:\n",
      "      Successfully uninstalled numpy-1.21.6\n",
      "  Attempting uninstall: gast\n",
      "    Found existing installation: gast 0.5.3\n",
      "    Uninstalling gast-0.5.3:\n",
      "      Successfully uninstalled gast-0.5.3\n",
      "  Attempting uninstall: h5py\n",
      "    Found existing installation: h5py 2.8.0\n",
      "    Uninstalling h5py-2.8.0:\n",
      "      Successfully uninstalled h5py-2.8.0\n",
      "  Attempting uninstall: grpcio\n",
      "    Found existing installation: grpcio 1.48.1\n",
      "    Uninstalling grpcio-1.48.1:\n",
      "      Successfully uninstalled grpcio-1.48.1\n",
      "  Attempting uninstall: absl-py\n",
      "    Found existing installation: absl-py 1.4.0\n",
      "    Uninstalling absl-py-1.4.0:\n",
      "      Successfully uninstalled absl-py-1.4.0\n",
      "  Attempting uninstall: tensorboard\n",
      "    Found existing installation: tensorboard 1.14.0\n",
      "    Uninstalling tensorboard-1.14.0:\n",
      "      Successfully uninstalled tensorboard-1.14.0\n",
      "  Attempting uninstall: tensorflow\n",
      "    Found existing installation: tensorflow 1.14.0\n",
      "    Uninstalling tensorflow-1.14.0:\n",
      "      Successfully uninstalled tensorflow-1.14.0\n",
      "\u001b[31mERROR: pip's dependency resolver does not currently take into account all the packages that are installed. This behaviour is the source of the following dependency conflicts.\n",
      "rich 13.3.5 requires typing-extensions<5.0,>=4.0.0; python_version < \"3.9\", but you have typing-extensions 3.7.4.3 which is incompatible.\u001b[0m\u001b[31m\n",
      "\u001b[0mSuccessfully installed absl-py-0.15.0 astunparse-1.6.3 cachetools-5.3.2 flatbuffers-1.12 gast-0.3.3 google-auth-2.27.0 google-auth-oauthlib-0.4.6 grpcio-1.32.0 h5py-2.10.0 numpy-1.19.5 oauthlib-3.2.2 opt-einsum-3.3.0 protobuf-3.20.3 requests-oauthlib-1.3.1 rsa-4.9 six-1.15.0 tensorboard-2.11.2 tensorboard-data-server-0.6.1 tensorboard-plugin-wit-1.8.1 tensorflow-2.4.0 tensorflow-estimator-2.4.0 termcolor-1.1.0 typing-extensions-3.7.4.3 wrapt-1.12.1\n"
     ]
    }
   ],
   "source": [
    "!pip install nltk\n",
    "!pip install wordcloud\n",
    "!pip install tensorflow==2.4"
   ]
  },
  {
   "cell_type": "code",
   "execution_count": 3,
   "metadata": {
    "id": "jdVcijxmTTha",
    "tags": []
   },
   "outputs": [
    {
     "name": "stderr",
     "output_type": "stream",
     "text": [
      "/home/jupyterlab/conda/envs/python/lib/python3.7/site-packages/sklearn/utils/validation.py:37: DeprecationWarning: distutils Version classes are deprecated. Use packaging.version instead.\n",
      "  LARGE_SPARSE_SUPPORTED = LooseVersion(scipy_version) >= '0.14.0'\n",
      "2024-02-06 11:05:46.556007: W tensorflow/stream_executor/platform/default/dso_loader.cc:60] Could not load dynamic library 'libcudart.so.11.0'; dlerror: libcudart.so.11.0: cannot open shared object file: No such file or directory\n",
      "2024-02-06 11:05:46.556072: I tensorflow/stream_executor/cuda/cudart_stub.cc:29] Ignore above cudart dlerror if you do not have a GPU set up on your machine.\n",
      "[nltk_data] Downloading package stopwords to\n",
      "[nltk_data]     /home/jupyterlab/nltk_data...\n",
      "[nltk_data]   Unzipping corpora/stopwords.zip.\n",
      "[nltk_data] Downloading package wordnet to\n",
      "[nltk_data]     /home/jupyterlab/nltk_data...\n",
      "[nltk_data] Downloading package punkt to /home/jupyterlab/nltk_data...\n",
      "[nltk_data]   Unzipping tokenizers/punkt.zip.\n"
     ]
    },
    {
     "data": {
      "text/plain": [
       "True"
      ]
     },
     "execution_count": 3,
     "metadata": {},
     "output_type": "execute_result"
    }
   ],
   "source": [
    "import numpy as np\n",
    "import pandas as pd\n",
    "import matplotlib.pyplot as plt\n",
    "import matplotlib.ticker as ticker\n",
    "import seaborn as sns\n",
    "import nltk, re, collections, pickle, os # nltk - Natural Language Toolkit\n",
    "from nltk.corpus import stopwords\n",
    "from nltk.stem import WordNetLemmatizer\n",
    "from nltk.tokenize import word_tokenize\n",
    "from wordcloud import WordCloud\n",
    "from sklearn.feature_extraction.text import CountVectorizer\n",
    "from sklearn.model_selection import train_test_split\n",
    "from sklearn.naive_bayes import GaussianNB, MultinomialNB\n",
    "from sklearn.linear_model import LogisticRegression\n",
    "from sklearn.neighbors import KNeighborsClassifier\n",
    "from sklearn.ensemble import GradientBoostingClassifier, BaggingClassifier\n",
    "from sklearn.svm import SVC\n",
    "from sklearn.tree import DecisionTreeClassifier\n",
    "from sklearn.metrics import confusion_matrix, classification_report\n",
    "\n",
    "import tensorflow as tf\n",
    "from tensorflow.keras.preprocessing.text import Tokenizer\n",
    "from tensorflow.keras.preprocessing.sequence import pad_sequences\n",
    "from tensorflow.keras.layers import Dense, Embedding, LSTM, Dropout, Bidirectional\n",
    "from tensorflow.keras.models import Sequential\n",
    "from tensorflow.keras.optimizers import Adam\n",
    "\n",
    "# %matplotlib inline\n",
    "plt.rcParams['figure.figsize'] = (15, 5)\n",
    "plt.style.use('ggplot')\n",
    "seed = 42\n",
    "\n",
    "import warnings\n",
    "warnings.filterwarnings(action = \"ignore\")\n",
    "warnings.simplefilter(action = 'ignore', category = Warning)\n",
    "nltk.download(\"stopwords\")\n",
    "nltk.download(\"wordnet\")\n",
    "nltk.download('punkt')"
   ]
  },
  {
   "cell_type": "markdown",
   "metadata": {
    "id": "Odfp7MOVWLKQ"
   },
   "source": [
    "## Some additional & preparing actions & add functions\n"
   ]
  },
  {
   "cell_type": "markdown",
   "metadata": {
    "id": "evtbog-C13Z2"
   },
   "source": [
    "Specify the value of the `precision` parameter equal to 3 to display three decimal signs (instead of 6 as default).\n"
   ]
  },
  {
   "cell_type": "code",
   "execution_count": 4,
   "metadata": {
    "id": "nwMoaJLV13Z3",
    "tags": []
   },
   "outputs": [],
   "source": [
    "pd.set_option(\"precision\", 3)\n",
    "pd.options.display.float_format = '{:.3f}'.format"
   ]
  },
  {
   "cell_type": "markdown",
   "metadata": {
    "id": "bW7wprNfJprA"
   },
   "source": [
    "Add some functions that you will need futher.\n"
   ]
  },
  {
   "cell_type": "code",
   "execution_count": 5,
   "metadata": {
    "id": "xlvlUEQ2PaKz"
   },
   "outputs": [],
   "source": [
    "def plot_history(history):\n",
    "    loss_list = [s for s in history.history.keys() if 'loss' in s and 'val' not in s]\n",
    "    val_loss_list = [s for s in history.history.keys() if 'loss' in s and 'val' in s]\n",
    "    acc_list = [s for s in history.history.keys() if 'accuracy' in s and 'val' not in s]\n",
    "    val_acc_list = [s for s in history.history.keys() if 'accuracy' in s and 'val' in s]\n",
    "    \n",
    "    plt.figure(figsize = (12, 5), dpi = 100)\n",
    "    COLOR = 'gray'\n",
    "    \n",
    "    plt.rc('legend', fontsize = 14)   # legend fontsize\n",
    "    plt.rc('figure', titlesize = 12)  # fontsize of the figure title\n",
    "        \n",
    "    if len(loss_list) == 0:\n",
    "        print('Loss is missing in history')\n",
    "        return \n",
    "    \n",
    "    ## As loss always exists\n",
    "    epochs = range(1, len(history.history[loss_list[0]]) + 1)\n",
    "    \n",
    "    ## Loss\n",
    "    plt.subplot(1, 2, 1)\n",
    "    plt.subplots_adjust(wspace = 2, hspace = 2)\n",
    "    plt.rcParams['text.color'] = 'black'\n",
    "    plt.rcParams['axes.titlecolor'] = 'black'\n",
    "    plt.rcParams['axes.labelcolor'] = COLOR\n",
    "    plt.rcParams['xtick.color'] = COLOR\n",
    "    plt.rcParams['ytick.color'] = COLOR\n",
    "    for l in loss_list:\n",
    "        plt.plot(epochs, history.history[l], 'b-o',\n",
    "                 label = 'Train (' + str(str(format(history.history[l][-1],'.4f'))+')'))\n",
    "    for l in val_loss_list:\n",
    "        plt.plot(epochs, history.history[l], 'g',\n",
    "                 label = 'Valid (' + str(str(format(history.history[l][-1],'.4f'))+')'))\n",
    "    \n",
    "    plt.title('Loss')\n",
    "    plt.xlabel('Epochs')\n",
    "    plt.legend(facecolor = 'gray', loc = 'best')\n",
    "    plt.grid(True)\n",
    "    plt.tight_layout()\n",
    "    \n",
    "    ## Accuracy\n",
    "    plt.subplot(1, 2, 2)\n",
    "    plt.subplots_adjust(wspace = 2, hspace = 2)\n",
    "    plt.rcParams['text.color'] = 'black'\n",
    "    plt.rcParams['axes.titlecolor'] = 'black'\n",
    "    plt.rcParams['axes.labelcolor'] = COLOR\n",
    "    plt.rcParams['xtick.color'] = COLOR\n",
    "    plt.rcParams['ytick.color'] = COLOR\n",
    "    for l in acc_list:\n",
    "        plt.plot(epochs, history.history[l], 'b-o',\n",
    "                 label = 'Train (' + str(format(history.history[l][-1],'.4f'))+')')\n",
    "    for l in val_acc_list:    \n",
    "        plt.plot(epochs, history.history[l], 'g',\n",
    "                 label = 'Valid (' + str(format(history.history[l][-1],'.4f'))+')')\n",
    "\n",
    "    plt.title('Accuracy')\n",
    "    plt.xlabel('Epochs')\n",
    "    plt.legend(facecolor = 'gray', loc = 'best')\n",
    "    plt.grid(True)\n",
    "    plt.tight_layout()\n",
    "    plt.show()\n",
    "\n",
    "def plot_conf_matr(conf_matr, classes,\n",
    "                          normalize = False,\n",
    "                          title = 'Confusion matrix',\n",
    "                          cmap = plt.cm.winter):\n",
    "  \"\"\"\n",
    "  Citation\n",
    "  ---------\n",
    "  http://scikit-learn.org/stable/auto_examples/model_selection/plot_confusion_matrix.html\n",
    "\n",
    "  \"\"\"  \n",
    "  import itertools\n",
    "\n",
    "  accuracy = np.trace(conf_matr) / np.sum(conf_matr).astype('float')\n",
    "  sns.set(font_scale = 1.4)\n",
    "\n",
    "  plt.figure(figsize = (12, 8))\n",
    "  plt.imshow(conf_matr, interpolation = 'nearest', cmap = cmap)\n",
    "  title = '\\n' + title + '\\n'\n",
    "  plt.title(title)\n",
    "  plt.colorbar()\n",
    "\n",
    "  if classes is not None:\n",
    "      tick_marks = np.arange(len(classes))\n",
    "      plt.xticks(tick_marks, classes, rotation = 45)\n",
    "      plt.yticks(tick_marks, classes)\n",
    "\n",
    "  if normalize:\n",
    "      conf_matr = conf_matr.astype('float') / conf_matr.sum(axis = 1)[:, np.newaxis]\n",
    "\n",
    "\n",
    "  thresh = conf_matr.max() / 1.5 if normalize else conf_matr.max() / 2\n",
    "  for i, j in itertools.product(range(conf_matr.shape[0]), range(conf_matr.shape[1])):\n",
    "      if normalize:\n",
    "          plt.text(j, i, \"{:0.2f}%\".format(conf_matr[i, j] * 100),\n",
    "                    horizontalalignment = \"center\",\n",
    "                    fontweight = 'bold',\n",
    "                    color = \"white\" if conf_matr[i, j] > thresh else \"black\")\n",
    "      else:\n",
    "          plt.text(j, i, \"{:,}\".format(conf_matr[i, j]),\n",
    "                    horizontalalignment = \"center\",\n",
    "                    fontweight = 'bold',\n",
    "                    color = \"white\" if conf_matr[i, j] > thresh else \"black\")\n",
    "  plt.tight_layout()\n",
    "  plt.ylabel('True label')\n",
    "  plt.xlabel('Predicted label\\n\\nAccuracy = {:0.2f}%; Error = {:0.2f}%'.format(accuracy * 100, (1 - accuracy) * 100))\n",
    "  plt.show()\n",
    "\n",
    "\n",
    "def plot_words(set, number):\n",
    "  words_counter = collections.Counter([word for sentence in set for word in sentence.split()]) # finding words along with count\n",
    "  most_counted = words_counter.most_common(number)\n",
    "  most_count = pd.DataFrame(most_counted, columns = [\"Words\", \"Amount\"]).sort_values(by = \"Amount\") # sorted data frame\n",
    "  most_count.plot.barh(x = \"Words\", \n",
    "                       y = \"Amount\",\n",
    "                       color = \"blue\",\n",
    "                       figsize = (10, 15))\n",
    "  for i, v in enumerate(most_count[\"Amount\"]):\n",
    "    plt.text(v, i,\n",
    "             \" \" + str(v),\n",
    "             color = 'black',\n",
    "             va = 'center',\n",
    "             fontweight = 'bold')\n",
    "\n",
    "def word_cloud(tag):\n",
    "  df_words_nl = ' '.join(list(df_spam[df_spam['feature'] == tag]['message']))\n",
    "  df_wc_nl = WordCloud(width = 600, height = 512).generate(df_words_nl)\n",
    "  plt.figure(figsize = (13, 9), facecolor = 'k')\n",
    "  plt.imshow(df_wc_nl)\n",
    "  plt.axis('off')\n",
    "  plt.tight_layout(pad = 1)\n",
    "  plt.show()"
   ]
  },
  {
   "cell_type": "markdown",
   "metadata": {
    "id": "SbmrZguMTThd"
   },
   "source": [
    "## Reading the Dataset\n"
   ]
  },
  {
   "cell_type": "markdown",
   "metadata": {
    "id": "EvMGO3m4TThd"
   },
   "source": [
    "The files contain one message per line. Each line consists of two columns: v1 contains the label (`ham` or `spam`) and v2 contains the raw text. SMS spam (sometimes called cell phone spam) is any junk message delivered to a mobile phone as a text messaging through the Short Message Service (SMS). The practice is fairly rare in `North America` but has been common in `Japan` for years.\n",
    "\n",
    "***\n",
    "\n",
    "In this section you will read our dataset.\n"
   ]
  },
  {
   "cell_type": "code",
   "execution_count": 6,
   "metadata": {
    "id": "-tW2bcLSr86z"
   },
   "outputs": [],
   "source": [
    "df_spam = pd.read_csv('spam.csv', encoding = 'latin-1')"
   ]
  },
  {
   "cell_type": "markdown",
   "metadata": {
    "id": "ViO_fR3jW7U4"
   },
   "source": [
    "## Dataset manipulations & simple EDA\n"
   ]
  },
  {
   "cell_type": "markdown",
   "metadata": {
    "id": "i11NJD1vKIv3"
   },
   "source": [
    "To make the columns(v1, v2) easy to read, we can rename them respectively.\n"
   ]
  },
  {
   "cell_type": "code",
   "execution_count": 7,
   "metadata": {
    "collapsed": true,
    "id": "rNff39M3D6bj",
    "jupyter": {
     "outputs_hidden": true
    },
    "tags": []
   },
   "outputs": [
    {
     "name": "stdout",
     "output_type": "stream",
     "text": [
      "Number of null values:\n",
      "\n"
     ]
    },
    {
     "data": {
      "text/plain": [
       "feature    0\n",
       "message    0\n",
       "dtype: int64"
      ]
     },
     "execution_count": 7,
     "metadata": {},
     "output_type": "execute_result"
    }
   ],
   "source": [
    "df_spam = df_spam.filter(['v1', 'v2'], axis = 1)\n",
    "df_spam.columns = ['feature', 'message']\n",
    "df_spam.drop_duplicates(inplace = True, ignore_index = True)\n",
    "print('Number of null values:\\n')\n",
    "df_spam.isnull().sum()"
   ]
  },
  {
   "cell_type": "markdown",
   "metadata": {
    "id": "3tk15rKDcE1W"
   },
   "source": [
    "Total ham(0) and spam(1) messages.\n"
   ]
  },
  {
   "cell_type": "code",
   "execution_count": 8,
   "metadata": {
    "id": "9ikPFh_cb5m5"
   },
   "outputs": [
    {
     "data": {
      "text/plain": [
       "ham     4516\n",
       "spam     653\n",
       "Name: feature, dtype: int64"
      ]
     },
     "execution_count": 8,
     "metadata": {},
     "output_type": "execute_result"
    }
   ],
   "source": [
    "df_spam['feature'].value_counts()"
   ]
  },
  {
   "cell_type": "markdown",
   "metadata": {
    "id": "Z0ILuy9O0lOj"
   },
   "source": [
    "## Dataset size & feature names\n"
   ]
  },
  {
   "cell_type": "code",
   "execution_count": 9,
   "metadata": {
    "id": "do_MtuN_0mmQ"
   },
   "outputs": [
    {
     "data": {
      "text/plain": [
       "((5169, 2), Index(['feature', 'message'], dtype='object'))"
      ]
     },
     "execution_count": 9,
     "metadata": {},
     "output_type": "execute_result"
    }
   ],
   "source": [
    "df_spam.shape, df_spam.columns"
   ]
  },
  {
   "cell_type": "markdown",
   "metadata": {
    "id": "5DBf0FS70v_t"
   },
   "source": [
    "The dataset contains a lot of objects (rows), including 1 target feature (`feature`) and an additional column (`message`).\n"
   ]
  },
  {
   "cell_type": "markdown",
   "metadata": {
    "id": "0SDpd1dxKeq4"
   },
   "source": [
    "Input features (column names):\n",
    "\n",
    "1.  `feature` - tags in this data collection\n",
    "2.  `message` - raw test message example\n"
   ]
  },
  {
   "cell_type": "markdown",
   "metadata": {
    "id": "tNsfcC39IHvj"
   },
   "source": [
    "Let's describe the data in a transposed way using both `describe` & `T` methods. The number of statistical output parameters from the data set is determined by the `describe` method.\n",
    "\n",
    "Replace `##YOUR CODE GOES HERE##` with your Python code.\n"
   ]
  },
  {
   "cell_type": "code",
   "execution_count": 14,
   "metadata": {
    "id": "wetTGQ5XfCLD"
   },
   "outputs": [
    {
     "data": {
      "text/html": [
       "<div>\n",
       "<style scoped>\n",
       "    .dataframe tbody tr th:only-of-type {\n",
       "        vertical-align: middle;\n",
       "    }\n",
       "\n",
       "    .dataframe tbody tr th {\n",
       "        vertical-align: top;\n",
       "    }\n",
       "\n",
       "    .dataframe thead th {\n",
       "        text-align: right;\n",
       "    }\n",
       "</style>\n",
       "<table border=\"1\" class=\"dataframe\">\n",
       "  <thead>\n",
       "    <tr style=\"text-align: right;\">\n",
       "      <th></th>\n",
       "      <th>count</th>\n",
       "      <th>unique</th>\n",
       "      <th>top</th>\n",
       "      <th>freq</th>\n",
       "    </tr>\n",
       "  </thead>\n",
       "  <tbody>\n",
       "    <tr>\n",
       "      <th>feature</th>\n",
       "      <td>5169</td>\n",
       "      <td>2</td>\n",
       "      <td>ham</td>\n",
       "      <td>4516</td>\n",
       "    </tr>\n",
       "    <tr>\n",
       "      <th>message</th>\n",
       "      <td>5169</td>\n",
       "      <td>5169</td>\n",
       "      <td>Go until jurong point, crazy.. Available only ...</td>\n",
       "      <td>1</td>\n",
       "    </tr>\n",
       "  </tbody>\n",
       "</table>\n",
       "</div>"
      ],
      "text/plain": [
       "        count unique                                                top  freq\n",
       "feature  5169      2                                                ham  4516\n",
       "message  5169   5169  Go until jurong point, crazy.. Available only ...     1"
      ]
     },
     "execution_count": 14,
     "metadata": {},
     "output_type": "execute_result"
    }
   ],
   "source": [
    "df_spam.describe().T"
   ]
  },
  {
   "cell_type": "markdown",
   "metadata": {
    "id": "xXCXfDbqS3S0"
   },
   "source": [
    "Double-click **here** for the solution.\n",
    "\n",
    "<!-- \n",
    "df_spam.describe().T\n",
    "-->\n"
   ]
  },
  {
   "cell_type": "markdown",
   "metadata": {
    "id": "kUmHnJn8JWU2"
   },
   "source": [
    "## Dataset primary statistics\n"
   ]
  },
  {
   "cell_type": "markdown",
   "metadata": {
    "id": "JqE5bdPIzB26"
   },
   "source": [
    "Let’s plot the number of value of both `spam` and `ham` messages.\n"
   ]
  },
  {
   "cell_type": "code",
   "execution_count": 11,
   "metadata": {
    "id": "_J-nCmN3bYry",
    "tags": []
   },
   "outputs": [
    {
     "data": {
      "image/png": "[encoded data removed]",
      "text/plain": [
       "<Figure size 1000x600 with 2 Axes>"
      ]
     },
     "metadata": {},
     "output_type": "display_data"
    }
   ],
   "source": [
    "plt.figure(figsize = (10, 6))\n",
    "counter = df_spam.shape[0]\n",
    "ax1 = sns.countplot(df_spam['feature'])\n",
    "ax2 = ax1.twinx()                      # Make double axis\n",
    "ax2.yaxis.tick_left()                 # Switch so the counter's axis is on the right, frequency axis is on the left\n",
    "ax1.yaxis.tick_right()\n",
    "ax1.yaxis.set_label_position('right')  # Also switch the labels over\n",
    "ax2.yaxis.set_label_position('left')\n",
    "ax2.set_ylabel('frequency, %')\n",
    "\n",
    "\n",
    "for p in ax1.patches:\n",
    "  x = p.get_bbox().get_points()[:, 0]\n",
    "  y = p.get_bbox().get_points()[1, 1]\n",
    "  ax1.annotate('{:.2f}%'.format(100. * y / counter),\n",
    "              (x.mean(), y),\n",
    "              ha = 'center',\n",
    "              va = 'bottom')\n",
    "\n",
    "# Use a LinearLocator to ensure the correct number of ticks\n",
    "ax1.yaxis.set_major_locator(ticker.LinearLocator(11))\n",
    "\n",
    "# Fix the frequency range to 0-100\n",
    "ax2.set_ylim(0, 100)\n",
    "ax1.set_ylim(0, counter)\n",
    "\n",
    "# And use a MultipleLocator to ensure a tick spacing of 10\n",
    "ax2.yaxis.set_major_locator(ticker.MultipleLocator(10))\n",
    "\n",
    "# Need to turn the grid on ax2 off, otherwise the gridlines end up on top of the bars\n",
    "ax2.grid(None)"
   ]
  },
  {
   "cell_type": "markdown",
   "metadata": {
    "id": "MMQePIb3zNOf"
   },
   "source": [
    "The number of `ham` messages is almost for times bigger than that of `spam` messages in the data.\n",
    "\n",
    "Let’s plot the `number` (you can choose a number of words yourself in the range of `[5 .. 50]` (it should be divisible by `5`)) of different most often used words (while we can name these objects as words) present in our dataset.\n"
   ]
  },
  {
   "cell_type": "code",
   "execution_count": 12,
   "metadata": {
    "id": "UsbpkFt1jwKY"
   },
   "outputs": [
    {
     "data": {
      "image/png": "[encoded data removed]",
      "text/plain": [
       "<Figure size 1000x1500 with 1 Axes>"
      ]
     },
     "metadata": {},
     "output_type": "display_data"
    }
   ],
   "source": [
    "plot_words(df_spam['message'], number = 30)"
   ]
  },
  {
   "cell_type": "markdown",
   "metadata": {
    "id": "K-RbrItf0IKS"
   },
   "source": [
    "As you can see, the most often used words are `stopwords`. So we need to perform some preprocessing techniques on the dataset (see below [lemmatization](https://en.wikipedia.org/wiki/Lemmatisation?utm_medium=Exinfluencer&utm_source=Exinfluencer&utm_content=000026UJ&utm_term=10006555&utm_id=NA-SkillsNetwork-Channel-SkillsNetworkQuickLabsAdvanced_ML_DL_spam_classification_L427910497-2022-01-01) substep in `Stage I`).\n",
    "\n",
    "Let's build the `WordCloud` image for the `spam` and the existed words (label `ham`) separately.\n"
   ]
  },
  {
   "cell_type": "code",
   "execution_count": 15,
   "metadata": {
    "id": "h2JlIIE-QU99"
   },
   "outputs": [
    {
     "ename": "AttributeError",
     "evalue": "'TransposedFont' object has no attribute 'getbbox'",
     "output_type": "error",
     "traceback": [
      "\u001b[0;31m---------------------------------------------------------------------------\u001b[0m",
      "\u001b[0;31mAttributeError\u001b[0m                            Traceback (most recent call last)",
      "\u001b[0;32m/tmp/ipykernel_361/452434762.py\u001b[0m in \u001b[0;36m<module>\u001b[0;34m\u001b[0m\n\u001b[0;32m----> 1\u001b[0;31m \u001b[0mword_cloud\u001b[0m\u001b[0;34m(\u001b[0m\u001b[0;34m'spam'\u001b[0m\u001b[0;34m)\u001b[0m\u001b[0;34m\u001b[0m\u001b[0;34m\u001b[0m\u001b[0m\n\u001b[0m",
      "\u001b[0;32m/tmp/ipykernel_361/3074800124.py\u001b[0m in \u001b[0;36mword_cloud\u001b[0;34m(tag)\u001b[0m\n\u001b[1;32m    126\u001b[0m \u001b[0;32mdef\u001b[0m \u001b[0mword_cloud\u001b[0m\u001b[0;34m(\u001b[0m\u001b[0mtag\u001b[0m\u001b[0;34m)\u001b[0m\u001b[0;34m:\u001b[0m\u001b[0;34m\u001b[0m\u001b[0;34m\u001b[0m\u001b[0m\n\u001b[1;32m    127\u001b[0m   \u001b[0mdf_words_nl\u001b[0m \u001b[0;34m=\u001b[0m \u001b[0;34m' '\u001b[0m\u001b[0;34m.\u001b[0m\u001b[0mjoin\u001b[0m\u001b[0;34m(\u001b[0m\u001b[0mlist\u001b[0m\u001b[0;34m(\u001b[0m\u001b[0mdf_spam\u001b[0m\u001b[0;34m[\u001b[0m\u001b[0mdf_spam\u001b[0m\u001b[0;34m[\u001b[0m\u001b[0;34m'feature'\u001b[0m\u001b[0;34m]\u001b[0m \u001b[0;34m==\u001b[0m \u001b[0mtag\u001b[0m\u001b[0;34m]\u001b[0m\u001b[0;34m[\u001b[0m\u001b[0;34m'message'\u001b[0m\u001b[0;34m]\u001b[0m\u001b[0;34m)\u001b[0m\u001b[0;34m)\u001b[0m\u001b[0;34m\u001b[0m\u001b[0;34m\u001b[0m\u001b[0m\n\u001b[0;32m--> 128\u001b[0;31m   \u001b[0mdf_wc_nl\u001b[0m \u001b[0;34m=\u001b[0m \u001b[0mWordCloud\u001b[0m\u001b[0;34m(\u001b[0m\u001b[0mwidth\u001b[0m \u001b[0;34m=\u001b[0m \u001b[0;36m600\u001b[0m\u001b[0;34m,\u001b[0m \u001b[0mheight\u001b[0m \u001b[0;34m=\u001b[0m \u001b[0;36m512\u001b[0m\u001b[0;34m)\u001b[0m\u001b[0;34m.\u001b[0m\u001b[0mgenerate\u001b[0m\u001b[0;34m(\u001b[0m\u001b[0mdf_words_nl\u001b[0m\u001b[0;34m)\u001b[0m\u001b[0;34m\u001b[0m\u001b[0;34m\u001b[0m\u001b[0m\n\u001b[0m\u001b[1;32m    129\u001b[0m   \u001b[0mplt\u001b[0m\u001b[0;34m.\u001b[0m\u001b[0mfigure\u001b[0m\u001b[0;34m(\u001b[0m\u001b[0mfigsize\u001b[0m \u001b[0;34m=\u001b[0m \u001b[0;34m(\u001b[0m\u001b[0;36m13\u001b[0m\u001b[0;34m,\u001b[0m \u001b[0;36m9\u001b[0m\u001b[0;34m)\u001b[0m\u001b[0;34m,\u001b[0m \u001b[0mfacecolor\u001b[0m \u001b[0;34m=\u001b[0m \u001b[0;34m'k'\u001b[0m\u001b[0;34m)\u001b[0m\u001b[0;34m\u001b[0m\u001b[0;34m\u001b[0m\u001b[0m\n\u001b[1;32m    130\u001b[0m   \u001b[0mplt\u001b[0m\u001b[0;34m.\u001b[0m\u001b[0mimshow\u001b[0m\u001b[0;34m(\u001b[0m\u001b[0mdf_wc_nl\u001b[0m\u001b[0;34m)\u001b[0m\u001b[0;34m\u001b[0m\u001b[0;34m\u001b[0m\u001b[0m\n",
      "\u001b[0;32m~/conda/envs/python/lib/python3.7/site-packages/wordcloud/wordcloud.py\u001b[0m in \u001b[0;36mgenerate\u001b[0;34m(self, text)\u001b[0m\n\u001b[1;32m    640\u001b[0m         \u001b[0mself\u001b[0m\u001b[0;34m\u001b[0m\u001b[0;34m\u001b[0m\u001b[0m\n\u001b[1;32m    641\u001b[0m         \"\"\"\n\u001b[0;32m--> 642\u001b[0;31m         \u001b[0;32mreturn\u001b[0m \u001b[0mself\u001b[0m\u001b[0;34m.\u001b[0m\u001b[0mgenerate_from_text\u001b[0m\u001b[0;34m(\u001b[0m\u001b[0mtext\u001b[0m\u001b[0;34m)\u001b[0m\u001b[0;34m\u001b[0m\u001b[0;34m\u001b[0m\u001b[0m\n\u001b[0m\u001b[1;32m    643\u001b[0m \u001b[0;34m\u001b[0m\u001b[0m\n\u001b[1;32m    644\u001b[0m     \u001b[0;32mdef\u001b[0m \u001b[0m_check_generated\u001b[0m\u001b[0;34m(\u001b[0m\u001b[0mself\u001b[0m\u001b[0;34m)\u001b[0m\u001b[0;34m:\u001b[0m\u001b[0;34m\u001b[0m\u001b[0;34m\u001b[0m\u001b[0m\n",
      "\u001b[0;32m~/conda/envs/python/lib/python3.7/site-packages/wordcloud/wordcloud.py\u001b[0m in \u001b[0;36mgenerate_from_text\u001b[0;34m(self, text)\u001b[0m\n\u001b[1;32m    622\u001b[0m         \"\"\"\n\u001b[1;32m    623\u001b[0m         \u001b[0mwords\u001b[0m \u001b[0;34m=\u001b[0m \u001b[0mself\u001b[0m\u001b[0;34m.\u001b[0m\u001b[0mprocess_text\u001b[0m\u001b[0;34m(\u001b[0m\u001b[0mtext\u001b[0m\u001b[0;34m)\u001b[0m\u001b[0;34m\u001b[0m\u001b[0;34m\u001b[0m\u001b[0m\n\u001b[0;32m--> 624\u001b[0;31m         \u001b[0mself\u001b[0m\u001b[0;34m.\u001b[0m\u001b[0mgenerate_from_frequencies\u001b[0m\u001b[0;34m(\u001b[0m\u001b[0mwords\u001b[0m\u001b[0;34m)\u001b[0m\u001b[0;34m\u001b[0m\u001b[0;34m\u001b[0m\u001b[0m\n\u001b[0m\u001b[1;32m    625\u001b[0m         \u001b[0;32mreturn\u001b[0m \u001b[0mself\u001b[0m\u001b[0;34m\u001b[0m\u001b[0;34m\u001b[0m\u001b[0m\n\u001b[1;32m    626\u001b[0m \u001b[0;34m\u001b[0m\u001b[0m\n",
      "\u001b[0;32m~/conda/envs/python/lib/python3.7/site-packages/wordcloud/wordcloud.py\u001b[0m in \u001b[0;36mgenerate_from_frequencies\u001b[0;34m(self, frequencies, max_font_size)\u001b[0m\n\u001b[1;32m    452\u001b[0m             \u001b[0;32melse\u001b[0m\u001b[0;34m:\u001b[0m\u001b[0;34m\u001b[0m\u001b[0;34m\u001b[0m\u001b[0m\n\u001b[1;32m    453\u001b[0m                 self.generate_from_frequencies(dict(frequencies[:2]),\n\u001b[0;32m--> 454\u001b[0;31m                                                max_font_size=self.height)\n\u001b[0m\u001b[1;32m    455\u001b[0m                 \u001b[0;31m# find font sizes\u001b[0m\u001b[0;34m\u001b[0m\u001b[0;34m\u001b[0m\u001b[0;34m\u001b[0m\u001b[0m\n\u001b[1;32m    456\u001b[0m                 \u001b[0msizes\u001b[0m \u001b[0;34m=\u001b[0m \u001b[0;34m[\u001b[0m\u001b[0mx\u001b[0m\u001b[0;34m[\u001b[0m\u001b[0;36m1\u001b[0m\u001b[0;34m]\u001b[0m \u001b[0;32mfor\u001b[0m \u001b[0mx\u001b[0m \u001b[0;32min\u001b[0m \u001b[0mself\u001b[0m\u001b[0;34m.\u001b[0m\u001b[0mlayout_\u001b[0m\u001b[0;34m]\u001b[0m\u001b[0;34m\u001b[0m\u001b[0;34m\u001b[0m\u001b[0m\n",
      "\u001b[0;32m~/conda/envs/python/lib/python3.7/site-packages/wordcloud/wordcloud.py\u001b[0m in \u001b[0;36mgenerate_from_frequencies\u001b[0;34m(self, frequencies, max_font_size)\u001b[0m\n\u001b[1;32m    509\u001b[0m                     font, orientation=orientation)\n\u001b[1;32m    510\u001b[0m                 \u001b[0;31m# get size of resulting text\u001b[0m\u001b[0;34m\u001b[0m\u001b[0;34m\u001b[0m\u001b[0;34m\u001b[0m\u001b[0m\n\u001b[0;32m--> 511\u001b[0;31m                 \u001b[0mbox_size\u001b[0m \u001b[0;34m=\u001b[0m \u001b[0mdraw\u001b[0m\u001b[0;34m.\u001b[0m\u001b[0mtextbbox\u001b[0m\u001b[0;34m(\u001b[0m\u001b[0;34m(\u001b[0m\u001b[0;36m0\u001b[0m\u001b[0;34m,\u001b[0m \u001b[0;36m0\u001b[0m\u001b[0;34m)\u001b[0m\u001b[0;34m,\u001b[0m \u001b[0mword\u001b[0m\u001b[0;34m,\u001b[0m \u001b[0mfont\u001b[0m\u001b[0;34m=\u001b[0m\u001b[0mtransposed_font\u001b[0m\u001b[0;34m,\u001b[0m \u001b[0manchor\u001b[0m\u001b[0;34m=\u001b[0m\u001b[0;34m\"lt\"\u001b[0m\u001b[0;34m)\u001b[0m\u001b[0;34m\u001b[0m\u001b[0;34m\u001b[0m\u001b[0m\n\u001b[0m\u001b[1;32m    512\u001b[0m                 \u001b[0;31m# find possible places using integral image:\u001b[0m\u001b[0;34m\u001b[0m\u001b[0;34m\u001b[0m\u001b[0;34m\u001b[0m\u001b[0m\n\u001b[1;32m    513\u001b[0m                 result = occupancy.sample_position(box_size[3] + self.margin,\n",
      "\u001b[0;32m~/conda/envs/python/lib/python3.7/site-packages/PIL/ImageDraw.py\u001b[0m in \u001b[0;36mtextbbox\u001b[0;34m(self, xy, text, font, anchor, spacing, align, direction, features, language, stroke_width, embedded_color)\u001b[0m\n\u001b[1;32m    565\u001b[0m             \u001b[0mfont\u001b[0m \u001b[0;34m=\u001b[0m \u001b[0mself\u001b[0m\u001b[0;34m.\u001b[0m\u001b[0mgetfont\u001b[0m\u001b[0;34m(\u001b[0m\u001b[0;34m)\u001b[0m\u001b[0;34m\u001b[0m\u001b[0;34m\u001b[0m\u001b[0m\n\u001b[1;32m    566\u001b[0m         \u001b[0mmode\u001b[0m \u001b[0;34m=\u001b[0m \u001b[0;34m\"RGBA\"\u001b[0m \u001b[0;32mif\u001b[0m \u001b[0membedded_color\u001b[0m \u001b[0;32melse\u001b[0m \u001b[0mself\u001b[0m\u001b[0;34m.\u001b[0m\u001b[0mfontmode\u001b[0m\u001b[0;34m\u001b[0m\u001b[0;34m\u001b[0m\u001b[0m\n\u001b[0;32m--> 567\u001b[0;31m         bbox = font.getbbox(\n\u001b[0m\u001b[1;32m    568\u001b[0m             \u001b[0mtext\u001b[0m\u001b[0;34m,\u001b[0m \u001b[0mmode\u001b[0m\u001b[0;34m,\u001b[0m \u001b[0mdirection\u001b[0m\u001b[0;34m,\u001b[0m \u001b[0mfeatures\u001b[0m\u001b[0;34m,\u001b[0m \u001b[0mlanguage\u001b[0m\u001b[0;34m,\u001b[0m \u001b[0mstroke_width\u001b[0m\u001b[0;34m,\u001b[0m \u001b[0manchor\u001b[0m\u001b[0;34m\u001b[0m\u001b[0;34m\u001b[0m\u001b[0m\n\u001b[1;32m    569\u001b[0m         )\n",
      "\u001b[0;31mAttributeError\u001b[0m: 'TransposedFont' object has no attribute 'getbbox'"
     ]
    }
   ],
   "source": [
    "word_cloud('spam')"
   ]
  },
  {
   "cell_type": "code",
   "execution_count": 16,
   "metadata": {
    "id": "_FctoedNrek4"
   },
   "outputs": [
    {
     "ename": "AttributeError",
     "evalue": "'TransposedFont' object has no attribute 'getbbox'",
     "output_type": "error",
     "traceback": [
      "\u001b[0;31m---------------------------------------------------------------------------\u001b[0m",
      "\u001b[0;31mAttributeError\u001b[0m                            Traceback (most recent call last)",
      "\u001b[0;32m/tmp/ipykernel_361/3063128479.py\u001b[0m in \u001b[0;36m<module>\u001b[0;34m\u001b[0m\n\u001b[0;32m----> 1\u001b[0;31m \u001b[0mword_cloud\u001b[0m\u001b[0;34m(\u001b[0m\u001b[0;34m'ham'\u001b[0m\u001b[0;34m)\u001b[0m\u001b[0;34m\u001b[0m\u001b[0;34m\u001b[0m\u001b[0m\n\u001b[0m",
      "\u001b[0;32m/tmp/ipykernel_361/3074800124.py\u001b[0m in \u001b[0;36mword_cloud\u001b[0;34m(tag)\u001b[0m\n\u001b[1;32m    126\u001b[0m \u001b[0;32mdef\u001b[0m \u001b[0mword_cloud\u001b[0m\u001b[0;34m(\u001b[0m\u001b[0mtag\u001b[0m\u001b[0;34m)\u001b[0m\u001b[0;34m:\u001b[0m\u001b[0;34m\u001b[0m\u001b[0;34m\u001b[0m\u001b[0m\n\u001b[1;32m    127\u001b[0m   \u001b[0mdf_words_nl\u001b[0m \u001b[0;34m=\u001b[0m \u001b[0;34m' '\u001b[0m\u001b[0;34m.\u001b[0m\u001b[0mjoin\u001b[0m\u001b[0;34m(\u001b[0m\u001b[0mlist\u001b[0m\u001b[0;34m(\u001b[0m\u001b[0mdf_spam\u001b[0m\u001b[0;34m[\u001b[0m\u001b[0mdf_spam\u001b[0m\u001b[0;34m[\u001b[0m\u001b[0;34m'feature'\u001b[0m\u001b[0;34m]\u001b[0m \u001b[0;34m==\u001b[0m \u001b[0mtag\u001b[0m\u001b[0;34m]\u001b[0m\u001b[0;34m[\u001b[0m\u001b[0;34m'message'\u001b[0m\u001b[0;34m]\u001b[0m\u001b[0;34m)\u001b[0m\u001b[0;34m)\u001b[0m\u001b[0;34m\u001b[0m\u001b[0;34m\u001b[0m\u001b[0m\n\u001b[0;32m--> 128\u001b[0;31m   \u001b[0mdf_wc_nl\u001b[0m \u001b[0;34m=\u001b[0m \u001b[0mWordCloud\u001b[0m\u001b[0;34m(\u001b[0m\u001b[0mwidth\u001b[0m \u001b[0;34m=\u001b[0m \u001b[0;36m600\u001b[0m\u001b[0;34m,\u001b[0m \u001b[0mheight\u001b[0m \u001b[0;34m=\u001b[0m \u001b[0;36m512\u001b[0m\u001b[0;34m)\u001b[0m\u001b[0;34m.\u001b[0m\u001b[0mgenerate\u001b[0m\u001b[0;34m(\u001b[0m\u001b[0mdf_words_nl\u001b[0m\u001b[0;34m)\u001b[0m\u001b[0;34m\u001b[0m\u001b[0;34m\u001b[0m\u001b[0m\n\u001b[0m\u001b[1;32m    129\u001b[0m   \u001b[0mplt\u001b[0m\u001b[0;34m.\u001b[0m\u001b[0mfigure\u001b[0m\u001b[0;34m(\u001b[0m\u001b[0mfigsize\u001b[0m \u001b[0;34m=\u001b[0m \u001b[0;34m(\u001b[0m\u001b[0;36m13\u001b[0m\u001b[0;34m,\u001b[0m \u001b[0;36m9\u001b[0m\u001b[0;34m)\u001b[0m\u001b[0;34m,\u001b[0m \u001b[0mfacecolor\u001b[0m \u001b[0;34m=\u001b[0m \u001b[0;34m'k'\u001b[0m\u001b[0;34m)\u001b[0m\u001b[0;34m\u001b[0m\u001b[0;34m\u001b[0m\u001b[0m\n\u001b[1;32m    130\u001b[0m   \u001b[0mplt\u001b[0m\u001b[0;34m.\u001b[0m\u001b[0mimshow\u001b[0m\u001b[0;34m(\u001b[0m\u001b[0mdf_wc_nl\u001b[0m\u001b[0;34m)\u001b[0m\u001b[0;34m\u001b[0m\u001b[0;34m\u001b[0m\u001b[0m\n",
      "\u001b[0;32m~/conda/envs/python/lib/python3.7/site-packages/wordcloud/wordcloud.py\u001b[0m in \u001b[0;36mgenerate\u001b[0;34m(self, text)\u001b[0m\n\u001b[1;32m    640\u001b[0m         \u001b[0mself\u001b[0m\u001b[0;34m\u001b[0m\u001b[0;34m\u001b[0m\u001b[0m\n\u001b[1;32m    641\u001b[0m         \"\"\"\n\u001b[0;32m--> 642\u001b[0;31m         \u001b[0;32mreturn\u001b[0m \u001b[0mself\u001b[0m\u001b[0;34m.\u001b[0m\u001b[0mgenerate_from_text\u001b[0m\u001b[0;34m(\u001b[0m\u001b[0mtext\u001b[0m\u001b[0;34m)\u001b[0m\u001b[0;34m\u001b[0m\u001b[0;34m\u001b[0m\u001b[0m\n\u001b[0m\u001b[1;32m    643\u001b[0m \u001b[0;34m\u001b[0m\u001b[0m\n\u001b[1;32m    644\u001b[0m     \u001b[0;32mdef\u001b[0m \u001b[0m_check_generated\u001b[0m\u001b[0;34m(\u001b[0m\u001b[0mself\u001b[0m\u001b[0;34m)\u001b[0m\u001b[0;34m:\u001b[0m\u001b[0;34m\u001b[0m\u001b[0;34m\u001b[0m\u001b[0m\n",
      "\u001b[0;32m~/conda/envs/python/lib/python3.7/site-packages/wordcloud/wordcloud.py\u001b[0m in \u001b[0;36mgenerate_from_text\u001b[0;34m(self, text)\u001b[0m\n\u001b[1;32m    622\u001b[0m         \"\"\"\n\u001b[1;32m    623\u001b[0m         \u001b[0mwords\u001b[0m \u001b[0;34m=\u001b[0m \u001b[0mself\u001b[0m\u001b[0;34m.\u001b[0m\u001b[0mprocess_text\u001b[0m\u001b[0;34m(\u001b[0m\u001b[0mtext\u001b[0m\u001b[0;34m)\u001b[0m\u001b[0;34m\u001b[0m\u001b[0;34m\u001b[0m\u001b[0m\n\u001b[0;32m--> 624\u001b[0;31m         \u001b[0mself\u001b[0m\u001b[0;34m.\u001b[0m\u001b[0mgenerate_from_frequencies\u001b[0m\u001b[0;34m(\u001b[0m\u001b[0mwords\u001b[0m\u001b[0;34m)\u001b[0m\u001b[0;34m\u001b[0m\u001b[0;34m\u001b[0m\u001b[0m\n\u001b[0m\u001b[1;32m    625\u001b[0m         \u001b[0;32mreturn\u001b[0m \u001b[0mself\u001b[0m\u001b[0;34m\u001b[0m\u001b[0;34m\u001b[0m\u001b[0m\n\u001b[1;32m    626\u001b[0m \u001b[0;34m\u001b[0m\u001b[0m\n",
      "\u001b[0;32m~/conda/envs/python/lib/python3.7/site-packages/wordcloud/wordcloud.py\u001b[0m in \u001b[0;36mgenerate_from_frequencies\u001b[0;34m(self, frequencies, max_font_size)\u001b[0m\n\u001b[1;32m    452\u001b[0m             \u001b[0;32melse\u001b[0m\u001b[0;34m:\u001b[0m\u001b[0;34m\u001b[0m\u001b[0;34m\u001b[0m\u001b[0m\n\u001b[1;32m    453\u001b[0m                 self.generate_from_frequencies(dict(frequencies[:2]),\n\u001b[0;32m--> 454\u001b[0;31m                                                max_font_size=self.height)\n\u001b[0m\u001b[1;32m    455\u001b[0m                 \u001b[0;31m# find font sizes\u001b[0m\u001b[0;34m\u001b[0m\u001b[0;34m\u001b[0m\u001b[0;34m\u001b[0m\u001b[0m\n\u001b[1;32m    456\u001b[0m                 \u001b[0msizes\u001b[0m \u001b[0;34m=\u001b[0m \u001b[0;34m[\u001b[0m\u001b[0mx\u001b[0m\u001b[0;34m[\u001b[0m\u001b[0;36m1\u001b[0m\u001b[0;34m]\u001b[0m \u001b[0;32mfor\u001b[0m \u001b[0mx\u001b[0m \u001b[0;32min\u001b[0m \u001b[0mself\u001b[0m\u001b[0;34m.\u001b[0m\u001b[0mlayout_\u001b[0m\u001b[0;34m]\u001b[0m\u001b[0;34m\u001b[0m\u001b[0;34m\u001b[0m\u001b[0m\n",
      "\u001b[0;32m~/conda/envs/python/lib/python3.7/site-packages/wordcloud/wordcloud.py\u001b[0m in \u001b[0;36mgenerate_from_frequencies\u001b[0;34m(self, frequencies, max_font_size)\u001b[0m\n\u001b[1;32m    509\u001b[0m                     font, orientation=orientation)\n\u001b[1;32m    510\u001b[0m                 \u001b[0;31m# get size of resulting text\u001b[0m\u001b[0;34m\u001b[0m\u001b[0;34m\u001b[0m\u001b[0;34m\u001b[0m\u001b[0m\n\u001b[0;32m--> 511\u001b[0;31m                 \u001b[0mbox_size\u001b[0m \u001b[0;34m=\u001b[0m \u001b[0mdraw\u001b[0m\u001b[0;34m.\u001b[0m\u001b[0mtextbbox\u001b[0m\u001b[0;34m(\u001b[0m\u001b[0;34m(\u001b[0m\u001b[0;36m0\u001b[0m\u001b[0;34m,\u001b[0m \u001b[0;36m0\u001b[0m\u001b[0;34m)\u001b[0m\u001b[0;34m,\u001b[0m \u001b[0mword\u001b[0m\u001b[0;34m,\u001b[0m \u001b[0mfont\u001b[0m\u001b[0;34m=\u001b[0m\u001b[0mtransposed_font\u001b[0m\u001b[0;34m,\u001b[0m \u001b[0manchor\u001b[0m\u001b[0;34m=\u001b[0m\u001b[0;34m\"lt\"\u001b[0m\u001b[0;34m)\u001b[0m\u001b[0;34m\u001b[0m\u001b[0;34m\u001b[0m\u001b[0m\n\u001b[0m\u001b[1;32m    512\u001b[0m                 \u001b[0;31m# find possible places using integral image:\u001b[0m\u001b[0;34m\u001b[0m\u001b[0;34m\u001b[0m\u001b[0;34m\u001b[0m\u001b[0m\n\u001b[1;32m    513\u001b[0m                 result = occupancy.sample_position(box_size[3] + self.margin,\n",
      "\u001b[0;32m~/conda/envs/python/lib/python3.7/site-packages/PIL/ImageDraw.py\u001b[0m in \u001b[0;36mtextbbox\u001b[0;34m(self, xy, text, font, anchor, spacing, align, direction, features, language, stroke_width, embedded_color)\u001b[0m\n\u001b[1;32m    565\u001b[0m             \u001b[0mfont\u001b[0m \u001b[0;34m=\u001b[0m \u001b[0mself\u001b[0m\u001b[0;34m.\u001b[0m\u001b[0mgetfont\u001b[0m\u001b[0;34m(\u001b[0m\u001b[0;34m)\u001b[0m\u001b[0;34m\u001b[0m\u001b[0;34m\u001b[0m\u001b[0m\n\u001b[1;32m    566\u001b[0m         \u001b[0mmode\u001b[0m \u001b[0;34m=\u001b[0m \u001b[0;34m\"RGBA\"\u001b[0m \u001b[0;32mif\u001b[0m \u001b[0membedded_color\u001b[0m \u001b[0;32melse\u001b[0m \u001b[0mself\u001b[0m\u001b[0;34m.\u001b[0m\u001b[0mfontmode\u001b[0m\u001b[0;34m\u001b[0m\u001b[0;34m\u001b[0m\u001b[0m\n\u001b[0;32m--> 567\u001b[0;31m         bbox = font.getbbox(\n\u001b[0m\u001b[1;32m    568\u001b[0m             \u001b[0mtext\u001b[0m\u001b[0;34m,\u001b[0m \u001b[0mmode\u001b[0m\u001b[0;34m,\u001b[0m \u001b[0mdirection\u001b[0m\u001b[0;34m,\u001b[0m \u001b[0mfeatures\u001b[0m\u001b[0;34m,\u001b[0m \u001b[0mlanguage\u001b[0m\u001b[0;34m,\u001b[0m \u001b[0mstroke_width\u001b[0m\u001b[0;34m,\u001b[0m \u001b[0manchor\u001b[0m\u001b[0;34m\u001b[0m\u001b[0;34m\u001b[0m\u001b[0m\n\u001b[1;32m    569\u001b[0m         )\n",
      "\u001b[0;31mAttributeError\u001b[0m: 'TransposedFont' object has no attribute 'getbbox'"
     ]
    }
   ],
   "source": [
    "word_cloud('ham')"
   ]
  },
  {
   "cell_type": "markdown",
   "metadata": {
    "id": "7hGavnMC7wwG"
   },
   "source": [
    "## Part A. Advanced Machine Learning for SPAM classification task\n"
   ]
  },
  {
   "cell_type": "markdown",
   "metadata": {
    "id": "_W9uHiZxfpHt"
   },
   "source": [
    "### I stage. Preliminary actions. Preparing of needed sets.\n"
   ]
  },
  {
   "cell_type": "markdown",
   "metadata": {
    "id": "TMhnVon3gDJo"
   },
   "source": [
    "We need to define some input parameters for our next research, such as the `size of vocabulary`, sizes of `test` & `validation` sets, `dropping level`, etc. You can change some of those numerical parameters yourself (only where you can see the additional comments).\n"
   ]
  },
  {
   "cell_type": "code",
   "execution_count": 17,
   "metadata": {
    "id": "BWmehP3o54Tp"
   },
   "outputs": [],
   "source": [
    "size_vocabulary = 1000    # You can choose the size of vocabulary yourself in the range [500 .. 1500] (it should be divisible by 500)\n",
    "embedding_dimension = 64  # You can choose the size of dimention yourself in the range [32 .. 256] (it should be divisible by 32)\n",
    "trunc_type = 'post'\n",
    "padding_type = 'post'\n",
    "threshold = 0.5           # You can choose the size of threshold yourself in the range [0 .. 1]\n",
    "oov_token = \"<OOV>\"\n",
    "test_size, valid_size = 0.05, 0.2\n",
    "num_epochs = 20           # You can choose the number of epochs yourself in the range [20 .. 50] (it should be divisible by 5)\n",
    "drop_level = 0.3          # You can choose the size of drop level yourself in the range [0 .. 1]"
   ]
  },
  {
   "cell_type": "markdown",
   "metadata": {
    "id": "ZXLkHz21TGk0"
   },
   "source": [
    "Next actions allow you to make data cleaning step by step, which consists of the following replace rules:\n",
    "\n",
    "1.  email addresses with 'emailaddr';\n",
    "2.  URLs with 'httpaddr';\n",
    "3.  money symbols with 'moneysymb';\n",
    "4.  phone numbers with 'phonenumbr';\n",
    "5.  numbers with 'numbr';\n",
    "6.  remove all punctuations;\n",
    "7.  word to lower case.\n",
    "\n",
    "Moreover, we make a `lemmatization` which is a method of morphological analysis. It comes down to reducing a word form to its initial dictionary form (lemma). As a result of  word forms lemmatization, flexive endings are discarded and the main or dictionary form of the word is returned.\n"
   ]
  },
  {
   "cell_type": "code",
   "execution_count": null,
   "metadata": {
    "id": "jq6v0UsU2qFC"
   },
   "outputs": [],
   "source": [
    "print(\"\\t\\tStage I. Preliminary actions. Preparing of needed sets\\n\")\n",
    "full_df_l = []\n",
    "lemmatizer = WordNetLemmatizer()\n",
    "for i in range(df_spam.shape[0]):\n",
    "    mess_1 = df_spam.iloc[i, 1]\n",
    "    mess_1 = re.sub('\\b[\\w\\-.]+?@\\w+?\\.\\w{2,4}\\b', 'emailaddr', mess_1)\n",
    "    mess_1 = re.sub('(http[s]?\\S+)|(\\w+\\.[A-Za-z]{2,4}\\S*)', 'httpaddr', mess_1) \n",
    "    mess_1 = re.sub('£|\\$', 'moneysymb', mess_1) \n",
    "    mess_1 = re.sub('\\b(\\+\\d{1,2}\\s)?\\d?[\\-(.]?\\d{3}\\)?[\\s.-]?\\d{3}[\\s.-]?\\d{4}\\b', 'phonenumbr', mess_1) \n",
    "    mess_1 = re.sub('\\d+(\\.\\d+)?', 'numbr', mess_1) \n",
    "    mess_1 = re.sub('[^\\w\\d\\s]', ' ', mess_1) \n",
    "    mess_1 = re.sub('[^A-Za-z]', ' ', mess_1).lower() \n",
    "    token_messages = word_tokenize(mess_1)\n",
    "    mess = []\n",
    "    for word in token_messages:\n",
    "        if word not in set(stopwords.words('english')):\n",
    "            mess.append(lemmatizer.lemmatize(word))\n",
    "    txt_mess = \" \".join(mess)\n",
    "    full_df_l.append(txt_mess)"
   ]
  },
  {
   "cell_type": "markdown",
   "metadata": {
    "id": "WK6G6VORKdOV"
   },
   "source": [
    "Now, let’s plot the count words (`number` - you can choose a number of words yourself in the range `[5 .. 50]` (it should be divisible by `5`)) once again to see the most frequent words (without any stopwords, thus after all cleaning stages).\n"
   ]
  },
  {
   "cell_type": "code",
   "execution_count": null,
   "metadata": {
    "id": "Wk7rRyWHIQMA"
   },
   "outputs": [],
   "source": [
    "plot_words(full_df_l, number = 35)"
   ]
  },
  {
   "cell_type": "markdown",
   "metadata": {
    "id": "Oq8GUmqpLK0C"
   },
   "source": [
    "We can see that most common words are different from the stopwords. In addition, you can compare this picture with the result in the chapter `\"Dataset primary statistics\"`.\n",
    "\n",
    "Then the primary `df_spam` set will split into sentences (messages) and labels separately. Then we will split the full primary `df_spam` set with the following proportions: a training set (`75%`) and a test set (`25%`). Thus we will obtain 4 sets: two for sentences and two for labels with the same proportions.\n",
    "\n",
    "Also, we will do the `vectorization` with the help of `CountVectorizer` method. This is an easy way to make a collection of text documents and create a dictionary of famous words. This method converts the input text to the matrix, the values of which are the numbers of this key entry (words) in the text. Unfortunately, `FeatureHasher` has more configurable parameters (for example, you can set the tokenizer), but it works slowlier.\n"
   ]
  },
  {
   "cell_type": "code",
   "execution_count": null,
   "metadata": {
    "id": "rKce95T6xFVi"
   },
   "outputs": [],
   "source": [
    "add_df = CountVectorizer(max_features = size_vocabulary)\n",
    "X = add_df.fit_transform(full_df_l).toarray()\n",
    "y = df_spam.iloc[:, 0]\n",
    "\n",
    "X_train, X_test, y_train, y_test = train_test_split(X, y, test_size = (test_size + valid_size), random_state = seed)\n",
    "print('Number of rows in test set: ' + str(X_test.shape))\n",
    "print('Number of rows in training set: ' + str(X_train.shape))"
   ]
  },
  {
   "cell_type": "markdown",
   "metadata": {
    "id": "4_m40uGV_ojI"
   },
   "source": [
    "### II stage. Naive Bayes Classifier.\n"
   ]
  },
  {
   "cell_type": "markdown",
   "metadata": {
    "id": "Lq05t5xJv9rJ"
   },
   "source": [
    "Let's find a set of predictions based on our models: `Guassian Naive Bayes` and `Multinomial Naive Bayes`. In addition, we will build a `classification report` and draw the `confusion matrix`.\n"
   ]
  },
  {
   "cell_type": "code",
   "execution_count": null,
   "metadata": {
    "id": "VSHZaZ9o-Ucw"
   },
   "outputs": [],
   "source": [
    "print(\"\\t\\tStage IIa. Guassian Naive Bayes\\n\")\n",
    "class_NBC = GaussianNB().fit(X_train, y_train) # Guassian Naive Bayes\n",
    "y_pred_NBC = class_NBC.predict(X_test)\n",
    "print('The first two predicted labels:', y_pred_NBC[0],y_pred_NBC[1], '\\n')\n",
    "conf_m_NBC = confusion_matrix(y_test, y_pred_NBC)\n",
    "class_rep_NBC = classification_report(y_test, y_pred_NBC)\n",
    "print('\\t\\t\\tClassification report:\\n\\n', class_rep_NBC, '\\n')\n",
    "plot_conf_matr(conf_m_NBC, classes = ['Spam','Ham'], normalize = False, title = 'Confusion matrix for Guassian Naive Bayes')"
   ]
  },
  {
   "cell_type": "code",
   "execution_count": null,
   "metadata": {
    "id": "Z7A28siI-o0Z"
   },
   "outputs": [],
   "source": [
    "print(\"\\t\\tStage IIb. Multinomial Naive Bayes\\n\")\n",
    "class_MNB = MultinomialNB().fit(X_train, y_train) # Multinomial Naive Bayes\n",
    "y_pred_MNB = class_MNB.predict(X_test)\n",
    "print('The first two predicted labels:', y_pred_MNB[0],y_pred_MNB[1], '\\n')\n",
    "conf_m_MNB = confusion_matrix(y_test, y_pred_MNB)\n",
    "class_rep_MNB = classification_report(y_test, y_pred_MNB)\n",
    "print('\\t\\t\\tClassification report:\\n\\n', class_rep_MNB, '\\n')\n",
    "plot_conf_matr(conf_m_MNB, classes = ['Spam','Ham'], normalize = False, title = 'Confusion matrix for Multinomial Naive Bayes')"
   ]
  },
  {
   "cell_type": "markdown",
   "metadata": {
    "id": "XsHtFKWVgnh3"
   },
   "source": [
    "### III stage. Decision Tree Classifier.\n"
   ]
  },
  {
   "cell_type": "markdown",
   "metadata": {
    "id": "4Zv_yCjzgx1_"
   },
   "source": [
    "Let's find a set of predictions based on our `Decision Tree Classifier` model. In addition, we will build a `classification report` and draw the `confusion matrix`.\n"
   ]
  },
  {
   "cell_type": "code",
   "execution_count": null,
   "metadata": {
    "id": "8coEIzwnw7My"
   },
   "outputs": [],
   "source": [
    "print(\"\\t\\tStage III. Decision Tree Classifier\\n\")\n",
    "class_DTC = DecisionTreeClassifier(random_state = seed).fit(X_train, y_train)\n",
    "y_pred_DTC = class_DTC.predict(X_test)\n",
    "print('The first two predicted labels:', y_pred_DTC[0], y_pred_DTC[1], '\\n')\n",
    "conf_m_DTC = confusion_matrix(y_test, y_pred_DTC)\n",
    "class_rep_DTC = classification_report(y_test, y_pred_DTC)\n",
    "print('\\t\\t\\tClassification report:\\n\\n', class_rep_DTC, '\\n')\n",
    "plot_conf_matr(conf_m_DTC, classes = ['Spam','Ham'], normalize = False, title = 'Confusion matrix for Decision Tree')"
   ]
  },
  {
   "cell_type": "markdown",
   "metadata": {
    "id": "Xtc4cpDuhlLh"
   },
   "source": [
    "### IV stage. Logistic Regression.\n"
   ]
  },
  {
   "cell_type": "markdown",
   "metadata": {
    "id": "TlREINxVivQH"
   },
   "source": [
    "Let's find a set of predictions based on our `Logistic Regression` model. In addition, we will build a `classification report` and draw the `confusion matrix`.\n"
   ]
  },
  {
   "cell_type": "code",
   "execution_count": null,
   "metadata": {
    "id": "9nf6e4GbwbTF"
   },
   "outputs": [],
   "source": [
    "print(\"\\t\\tStage IV. Logistic Regression\\n\")\n",
    "class_LR = LogisticRegression(random_state = seed, solver = 'liblinear').fit(X_train, y_train)\n",
    "y_pred_LR = class_LR.predict(X_test)\n",
    "print('The first two predicted labels:', y_pred_LR[0], y_pred_LR[1], '\\n')\n",
    "conf_m_LR = confusion_matrix(y_test, y_pred_LR)\n",
    "class_rep_LR = classification_report(y_test, y_pred_LR)\n",
    "print('\\t\\t\\tClassification report:\\n\\n', class_rep_LR, '\\n')\n",
    "plot_conf_matr(conf_m_LR, classes = ['Spam','Ham'], normalize = False, title = 'Confusion matrix for Logistic Regression')"
   ]
  },
  {
   "cell_type": "markdown",
   "metadata": {
    "id": "isHa47x7jaGe"
   },
   "source": [
    "### V stage. KNeighbors Classifier.\n"
   ]
  },
  {
   "cell_type": "markdown",
   "metadata": {
    "id": "B2xcvn2EjhNQ"
   },
   "source": [
    "Let's find a set of predictions based on our `KNeighbors Classifier` model. In addition, we will build a `classification report` and draw the `confusion matrix`.\n"
   ]
  },
  {
   "cell_type": "code",
   "execution_count": null,
   "metadata": {
    "id": "rv7gR5653034"
   },
   "outputs": [],
   "source": [
    "print(\"\\t\\tStage V. KNeighbors Classifier\\n\")\n",
    "class_KNC = KNeighborsClassifier(n_neighbors = 3).fit(X_train, y_train)\n",
    "y_pred_KNC = class_KNC.predict(X_test)\n",
    "print('The firs two predicted labels:', y_pred_KNC[0], y_pred_KNC[1], '\\n')\n",
    "conf_m_KNC = confusion_matrix(y_test, y_pred_KNC)\n",
    "class_rep_KNC = classification_report(y_test, y_pred_KNC)\n",
    "print('\\t\\t\\tClassification report:\\n\\n', class_rep_KNC, '\\n')\n",
    "plot_conf_matr(conf_m_KNC, classes = ['Spam','Ham'], normalize = False, title = 'Confusion matrix for KNeighbors Classifier')"
   ]
  },
  {
   "cell_type": "markdown",
   "metadata": {
    "id": "_1cLq05slA_U"
   },
   "source": [
    "### VI stage. Support Vector Classification.\n"
   ]
  },
  {
   "cell_type": "markdown",
   "metadata": {
    "id": "x20jxggVqgGl"
   },
   "source": [
    "Let's find a set of predictions based on our `Support Vector Classification` model. In addition, we will build a `classification report` and draw the `confusion matrix`.\n"
   ]
  },
  {
   "cell_type": "code",
   "execution_count": null,
   "metadata": {
    "id": "awr9mi4Aztqc"
   },
   "outputs": [],
   "source": [
    "print(\"\\t\\tStage VI. Support Vector Classification\\n\")\n",
    "class_SVC = SVC(probability = True, random_state = seed).fit(X_train, y_train)\n",
    "y_pred_SVC = class_SVC.predict(X_test)\n",
    "print('The first two predicted labels:', y_pred_SVC[0], y_pred_SVC[1], '\\n')\n",
    "conf_m_SVC = confusion_matrix(y_test, y_pred_SVC)\n",
    "class_rep_SVC = classification_report(y_test, y_pred_SVC)\n",
    "print('\\t\\t\\tClassification report:\\n\\n', class_rep_SVC, '\\n')\n",
    "plot_conf_matr(conf_m_SVC, classes = ['Spam','Ham'], normalize = False, title = 'Confusion matrix for SVC Classifier')"
   ]
  },
  {
   "cell_type": "markdown",
   "metadata": {
    "id": "ZyRjbH0EyOyT"
   },
   "source": [
    "### VII stage. Gradient Boosting Classifier.\n"
   ]
  },
  {
   "cell_type": "markdown",
   "metadata": {
    "id": "mKeW3viryrSC"
   },
   "source": [
    "Let's find a set of predictions based on our `Gradient Boosting Classifier` model. In addition, we will build a `classification report` and draw the `confusion matrix`.\n"
   ]
  },
  {
   "cell_type": "code",
   "execution_count": null,
   "metadata": {
    "id": "PFp4lthL5Sqq"
   },
   "outputs": [],
   "source": [
    "print(\"\\t\\tStage VII. Gradient Boosting Classifier\\n\")\n",
    "class_GBC = GradientBoostingClassifier(random_state = seed).fit(X_train, y_train)\n",
    "y_pred_GBC = class_GBC.predict(X_test)\n",
    "print('The first two predicted labels:', y_pred_GBC[0], y_pred_GBC[1], '\\n')\n",
    "conf_m_GBC = confusion_matrix(y_test, y_pred_GBC)\n",
    "class_rep_GBC = classification_report(y_test, y_pred_GBC)\n",
    "print('\\t\\t\\tClassification report:\\n\\n', class_rep_GBC, '\\n')\n",
    "plot_conf_matr(conf_m_GBC, classes = ['Spam','Ham'], normalize = False, title = 'Confusion matrix for Gradient Boosting Classifier')"
   ]
  },
  {
   "cell_type": "markdown",
   "metadata": {
    "id": "IWCxHx2K23gS"
   },
   "source": [
    "### VIII stage. Bagging Classifier.\n"
   ]
  },
  {
   "cell_type": "markdown",
   "metadata": {
    "id": "pSYuFkZe276A"
   },
   "source": [
    "Let's find a set of predictions based on our `Bagging Classifier` model. In addition, we will build a `classification report` and draw the `confusion matrix`.\n",
    "\n",
    "Replace `##YOUR CODE GOES HERE##` with your Python code.\n"
   ]
  },
  {
   "cell_type": "code",
   "execution_count": null,
   "metadata": {
    "id": "ZnD4msd55_7x"
   },
   "outputs": [],
   "source": [
    "print(\"\\t\\tStage VIII. Bagging Classifier + something else\\n\")\n",
    "class_BC = BaggingClassifier(##YOUR CODE GOES HERE##).fit(X_train, y_train)\n",
    "y_pred_BC = class_BC.predict(X_test)\n",
    "print('The first two predicted labels:', y_pred_BC[0], y_pred_BC[1], '\\n')\n",
    "conf_m_BC = confusion_matrix(y_test, y_pred_BC)\n",
    "class_rep_BC = classification_report(y_test, y_pred_BC)\n",
    "print('\\t\\t\\tClassification report:\\n\\n', class_rep_BC, '\\n')\n",
    "plot_conf_matr(conf_m_BC, classes = ['Spam','Ham'], normalize = False, title = 'Confusion matrix for Bagging Classifier')"
   ]
  },
  {
   "cell_type": "markdown",
   "metadata": {
    "id": "knvGS1HyA_NZ"
   },
   "source": [
    "Double-click **here** for the solution.\n",
    "\n",
    "<!-- \n",
    "class_BC = BaggingClassifier(class_SVC).fit(X_train, y_train)\n",
    "# OR\n",
    "class_BC = BaggingClassifier(class_DTC).fit(X_train, y_train)\n",
    "# OR\n",
    "class_BC = BaggingClassifier(class_KNC).fit(X_train, y_train)\n",
    "-->\n"
   ]
  },
  {
   "cell_type": "markdown",
   "metadata": {
    "id": "1-V-aNIYR5j8"
   },
   "source": [
    "Moreover, as you can see, the `Bugging Classifier` can work with some different classifiers as with basic ones, such as `SVC`, `KNC`, `DTC`, etc. In this case, the main purpose of its usage is to increase the accuracy obtained earlier from the basic classifier. You can check this fact comparing, for instance, the obtained earlier `SVC classifier` accuracy and the accuracy after using `Bugging Classifier` with `SVC`.\n"
   ]
  },
  {
   "cell_type": "markdown",
   "metadata": {
    "id": "k3k94brgQ662"
   },
   "source": [
    "## Part B. Advanced Deep Learning for SPAM classification task\n"
   ]
  },
  {
   "cell_type": "markdown",
   "metadata": {
    "id": "JNxTK61jmSVE"
   },
   "source": [
    "### I stage. Preliminary actions. Preparing of needed sets.\n"
   ]
  },
  {
   "cell_type": "markdown",
   "metadata": {
    "id": "3w1U2WS4Xqn4"
   },
   "source": [
    "We need to prepare our sets to the new DL model for SPAM classification task, such as training, validation & test sets based on the primary `df_spam` set. We need a training set for training a pre-built model, a validation set is used for finding better hyperparameters, a test set will be used for checking our trained model on data which the model didn't see.\n",
    "\n",
    "Firstly, the primary `df_spam` set will split into sentences (messages) and labels separately. Then we will split the full primary `df_spam` set with the following proportions: a training set (`75%`), a validation set (`20%`) and a test set (`5%`). Thus we will obtain 6 sets: three for sentences and three for labels with the same proportions.\n",
    "\n",
    "Nevertheless, you can change those proportions in percentages as you see it. However, you should remember that these changes can influence your model accuracy, and as it often happens, they decrease it.\n"
   ]
  },
  {
   "cell_type": "code",
   "execution_count": null,
   "metadata": {
    "id": "KSu11mHe7xKh"
   },
   "outputs": [],
   "source": [
    "print(\"Stage I. Preliminary actions. Preparing of needed sets\\n\")\n",
    "\n",
    "sentences_new_set = []\n",
    "labels_new_set = []\n",
    "for i in range(0, df_spam.shape[0], 1):\n",
    "    sentences_new_set.append(df_spam['message'][i])\n",
    "    labels_new_set.append(df_spam['feature'][i])"
   ]
  },
  {
   "cell_type": "code",
   "execution_count": null,
   "metadata": {
    "id": "4MTEcbue7jW3"
   },
   "outputs": [],
   "source": [
    "train_size = int(df_spam.shape[0] * (1 - test_size - valid_size))\n",
    "valid_bound = int(df_spam.shape[0] * (1 - valid_size))\n",
    "\n",
    "train_sentences = sentences_new_set[0 : train_size]\n",
    "valid_sentences = sentences_new_set[train_size : valid_bound]\n",
    "test_sentences = sentences_new_set[valid_bound : ]\n",
    "\n",
    "train_labels_str = labels_new_set[0 : train_size]\n",
    "valid_labels_str = labels_new_set[train_size : valid_bound]\n",
    "test_labels_str = labels_new_set[valid_bound : ]"
   ]
  },
  {
   "cell_type": "markdown",
   "metadata": {
    "id": "eTbsPsQtlsHA"
   },
   "source": [
    "### II stage. Labels transformations.\n"
   ]
  },
  {
   "cell_type": "markdown",
   "metadata": {
    "id": "TtiJn-Phl6G3"
   },
   "source": [
    "Secondly, we will replace all the labels (with the following values: `ham` and `spam`) to the appropriate values `1` and `0`, and transform them to Numpy arrays.\n",
    "\n",
    "Replace `##YOUR CODE GOES HERE##` with your Python code.\n"
   ]
  },
  {
   "cell_type": "code",
   "execution_count": null,
   "metadata": {
    "id": "Us_2pYwDEG6p"
   },
   "outputs": [],
   "source": [
    "print(\"Stage II. Labels transformations\\n\")\n",
    "\n",
    "train_labels = [0] * len(train_labels_str)\n",
    "for ind, item in enumerate(train_labels_str):\n",
    "    if item == 'ham':\n",
    "        train_labels[ind] = 1\n",
    "    else:\n",
    "        train_labels[ind] = 0\n",
    "        \n",
    "valid_labels = [0] * len(valid_labels_str)\n",
    "for ind, item in enumerate(valid_labels_str):\n",
    "    if item == 'ham':\n",
    "        valid_labels[ind] = 1\n",
    "    else:\n",
    "        valid_labels[ind] = 0\n",
    "\n",
    "test_labels = [0] * len(test_labels_str)\n",
    "for ind, item in enumerate(test_labels_str):\n",
    "    if item == 'ham':\n",
    "        test_labels[ind] = 1\n",
    "    else:\n",
    "        test_labels[ind] = 0\n",
    "\n",
    "train_labels = np.array(##YOUR CODE GOES HERE##)\n",
    "valid_labels = np.array(##YOUR CODE GOES HERE##)\n",
    "test_labels = np.array(##YOUR CODE GOES HERE##)"
   ]
  },
  {
   "cell_type": "markdown",
   "metadata": {
    "id": "uephw9xHnMaB"
   },
   "source": [
    "Double-click **here** for the solution.\n",
    "\n",
    "<!-- \n",
    "train_labels = np.array(train_labels)\n",
    "valid_labels = np.array(valid_labels)\n",
    "test_labels = np.array(test_labels)\n",
    "-->\n"
   ]
  },
  {
   "cell_type": "markdown",
   "metadata": {
    "id": "ZuIE6kGFl-0c"
   },
   "source": [
    "### III stage. Tokenization.\n"
   ]
  },
  {
   "cell_type": "markdown",
   "metadata": {
    "id": "2TMAplfUYYiY"
   },
   "source": [
    "[Tokenization](https://nlp.stanford.edu/IR-book/html/htmledition/tokenization-1.html?utm_medium=Exinfluencer&utm_source=Exinfluencer&utm_content=000026UJ&utm_term=10006555&utm_id=NA-SkillsNetwork-Channel-SkillsNetworkQuickLabsAdvanced_ML_DL_spam_classification_L427910497-2022-01-01) is a process of splitting up a large body of text into smaller lines or words. It helps in interpreting the meaning of the text by analyzing the sequence of the words. We converted our output feature into a numerical form, then, what about the input feature based on `size_vocabulary`.\n",
    "\n",
    "First, let’s tokenize our data and convert it into a numerical sequence using `Keras` `Tokenizer`. We can also find the index number `word_index` of the corresponding words. We will need a really big word index to handle sentences that are not in the training set. This can be handled using the `Out Of Vocabulary` <OOV> token variable `oov_token`.\n",
    "\n",
    "Replace `##YOUR CODE GOES HERE##` with your Python code.\n"
   ]
  },
  {
   "cell_type": "code",
   "execution_count": null,
   "metadata": {
    "id": "ud1ti0JZ4VOQ"
   },
   "outputs": [],
   "source": [
    "print(\"Stage III. Tokenization\\n\")\n",
    "\n",
    "tokenizer = Tokenizer(num_words = ##YOUR CODE GOES HERE##,\n",
    "                      oov_token = ##YOUR CODE GOES HERE##,\n",
    "                      lower = False)\n",
    "tokenizer.fit_on_texts(train_sentences)\n",
    "word_index = tokenizer.word_index"
   ]
  },
  {
   "cell_type": "markdown",
   "metadata": {
    "id": "xHGfHBZ8n01h"
   },
   "source": [
    "Double-click **here** for the solution.\n",
    "\n",
    "<!-- \n",
    "tokenizer = Tokenizer(num_words = size_vocabulary,\n",
    "                      oov_token = oov_token,\n",
    "                      lower = False)\n",
    "-->\n"
   ]
  },
  {
   "cell_type": "markdown",
   "metadata": {
    "id": "W5iEqIQDXTuz"
   },
   "source": [
    "As you can see in `text_to_sequence`, all the sequences are of different lengths which are not compatible for the model to train. So we should make all the sentences length equal. For this, we are padding the sequences with `padding_type`.\n"
   ]
  },
  {
   "cell_type": "code",
   "execution_count": null,
   "metadata": {
    "id": "IQ0kJNTaFOkW"
   },
   "outputs": [],
   "source": [
    "train_sequences = tokenizer.texts_to_sequences(train_sentences)\n",
    "size_voc = len(word_index) + 1\n",
    "max_len = max([len(i) for i in train_sequences])\n",
    "train_set = pad_sequences(train_sequences,\n",
    "                                padding = padding_type,\n",
    "                                maxlen = max_len,\n",
    "                                truncating = trunc_type) \n",
    "\n",
    "valid_sequences = tokenizer.texts_to_sequences(valid_sentences)\n",
    "valid_set = pad_sequences(valid_sequences,\n",
    "                               padding = padding_type,\n",
    "                               maxlen = max_len,\n",
    "                               truncating = trunc_type)\n",
    "\n",
    "test_sequences = tokenizer.texts_to_sequences(test_sentences)\n",
    "test_set = pad_sequences(test_sequences,\n",
    "                               padding = padding_type,\n",
    "                               maxlen = max_len,\n",
    "                               truncating = trunc_type)"
   ]
  },
  {
   "cell_type": "markdown",
   "metadata": {
    "id": "9TDZGntCmgEg"
   },
   "source": [
    "### IV stage. Model building.\n"
   ]
  },
  {
   "cell_type": "markdown",
   "metadata": {
    "id": "r-yMDx6jpnPQ"
   },
   "source": [
    "You should create your own model at this stage.\n",
    "\n",
    "The first layer of the model is `Embedding` layer, which can be used to create `dense` encoding of words based on an input `size_voc` of defined vocabulary (in our case it's the index number `word_index` of the corresponding words `+ 1`). Typically sparse and dense word encodings denote coding efficiency.\n",
    "\n",
    "Further, we use one (you can change this number) pair of layers: `Dense` & `Dropout`. You can choose a number of layers pairs yourself.\n",
    "\n",
    "Using `bidirectional LSTM` will run your input in two ways: one from the past to the future and one from the future to the past (in a back way). This distinguishes this approach from `unidirectional LSTM` which works in the opposite direction, so you save information from the future. Thus, by using the two hidden states together, you can save information from both the past and the future at any time.\n",
    "\n",
    "`Dropout` [layer](https://arxiv.org/abs/1207.0580?utm_medium=Exinfluencer&utm_source=Exinfluencer&utm_content=000026UJ&utm_term=10006555&utm_id=NA-SkillsNetwork-Channel-SkillsNetworkQuickLabsAdvanced_ML_DL_spam_classification_L427910497-2022-01-01) is used in neural networks to solve the problem of overfitting. Networks for training are obtained by dropping out neurons with probability `p`, so the probability that a neuron will remain in the network is `1 - p`.\n",
    "\n",
    "`Dense` layer is an ordinary tightly bonded layer of a neural network where each neuron is connected to all inputs.\n"
   ]
  },
  {
   "cell_type": "code",
   "execution_count": null,
   "metadata": {
    "id": "LpxA3CnKExqI"
   },
   "outputs": [],
   "source": [
    "print(\"Stage IV. Model building\\n\")\n",
    "\n",
    "model = Sequential([\n",
    "    Embedding(size_voc, embedding_dimension, input_length = max_len),\n",
    "    Bidirectional(LSTM(100)),\n",
    "    Dropout(drop_level),\n",
    "    Dense(20, activation = 'relu'),\n",
    "    Dropout(drop_level),\n",
    "    Dense(1, activation = 'sigmoid')\n",
    "])"
   ]
  },
  {
   "cell_type": "markdown",
   "metadata": {
    "id": "vPpsuDGxqlQw"
   },
   "source": [
    "### V stage. Model compiling & fitting.\n"
   ]
  },
  {
   "cell_type": "markdown",
   "metadata": {
    "id": "PxaTtocvqtVK"
   },
   "source": [
    "This stage allows you to train your model, but firstly, you should set some hyperparameters & other variables values, such as `batch size`, number of `epochs` for training, types of `optimizer` & `loss` function. You can change all or a part of them during your research.\n",
    "\n",
    "Replace `##YOUR CODE GOES HERE##` with your Python code.\n"
   ]
  },
  {
   "cell_type": "code",
   "execution_count": null,
   "metadata": {
    "id": "9elKURGeKNEY"
   },
   "outputs": [],
   "source": [
    "print(\"Stage V. Model compiling & fitting\\n\")\n",
    "optim = Adam(learning_rate = 0.0001)\n",
    "\n",
    "model.compile(loss = 'binary_crossentropy',\n",
    "              optimizer = ##YOUR CODE GOES HERE##,\n",
    "              metrics = ['accuracy'])\n",
    "##YOUR CODE GOES HERE##.summary()"
   ]
  },
  {
   "cell_type": "markdown",
   "metadata": {
    "id": "87HdLEufrIan"
   },
   "source": [
    "Double-click **here** for the solution.\n",
    "\n",
    "<!-- \n",
    "model.compile(loss = 'binary_crossentropy',\n",
    "              optimizer = optim,\n",
    "              metrics = ['accuracy'])\n",
    "model.summary()\n",
    "-->\n"
   ]
  },
  {
   "cell_type": "code",
   "execution_count": null,
   "metadata": {
    "id": "_dokKMxDKVka"
   },
   "outputs": [],
   "source": [
    "history = model.fit(train_set, \n",
    "                    train_labels,\n",
    "                    epochs = num_epochs, \n",
    "                    validation_data = (valid_set, valid_labels),\n",
    "                    workers = os.cpu_count(),\n",
    "                    use_multiprocessing = True,\n",
    "                    verbose = 1)"
   ]
  },
  {
   "cell_type": "markdown",
   "metadata": {
    "id": "lkCbKquXrHGA"
   },
   "source": [
    "### VI stage. Results visualization.\n"
   ]
  },
  {
   "cell_type": "markdown",
   "metadata": {
    "id": "8LqgnPp8riIZ"
   },
   "source": [
    "You see the results of training for the loss & accuracy.\n",
    "\n",
    "Replace `##YOUR CODE GOES HERE##` with your Python code.\n"
   ]
  },
  {
   "cell_type": "code",
   "execution_count": null,
   "metadata": {
    "id": "92dVg22VN09V"
   },
   "outputs": [],
   "source": [
    "print(\"Stage VI. Results visualization\\n\")\n",
    "plot_history(##YOUR CODE GOES HERE##)"
   ]
  },
  {
   "cell_type": "markdown",
   "metadata": {
    "id": "08pGS8qwrrL8"
   },
   "source": [
    "Double-click **here** for the solution.\n",
    "\n",
    "<!-- \n",
    "plot_history(history)\n",
    "-->\n"
   ]
  },
  {
   "cell_type": "markdown",
   "metadata": {
    "id": "Xj0qcj6YsTPE"
   },
   "source": [
    "If you can see the values reduction for the `loss` distribution, and if you see the values increase for the `accuracy`, then it's a good sign. It means your model training goes in the right direction.\n",
    "\n",
    "Thus, the main goal has been reached.\n",
    "\n",
    "In addition, let's estimate your pre-built model on the test set which this model hasn't seen in any case.\n"
   ]
  },
  {
   "cell_type": "code",
   "execution_count": null,
   "metadata": {
    "id": "vmpsTeb4ZjRE"
   },
   "outputs": [],
   "source": [
    "model_score = model.evaluate(test_set, test_labels, batch_size = embedding_dimension, verbose = 1)\n",
    "print(f\"Test accuracy: {model_score[1] * 100:0.2f}% \\t\\t Test error: {model_score[0]:0.4f}\")"
   ]
  },
  {
   "cell_type": "markdown",
   "metadata": {
    "id": "6XVQTcrzs0jJ"
   },
   "source": [
    "### VII stage. Model saving & predict checking.\n"
   ]
  },
  {
   "cell_type": "markdown",
   "metadata": {
    "id": "F9ZuHEvdXBQU"
   },
   "source": [
    "We can save our model and tokenizer for future uses in different formats. We have to do two more steps: to save our trained model so that we can use it in the further research. In addition, we should check our saved model and try to make a forecast.\n",
    "\n",
    "You should enter any name of your model for saving but make sure that it is in quotes.\n",
    "\n",
    "Replace `##YOUR CODE GOES HERE##` with your Python code.\n"
   ]
  },
  {
   "cell_type": "code",
   "execution_count": null,
   "metadata": {
    "id": "IuRBSGZITAi7"
   },
   "outputs": [],
   "source": [
    "M_name = \"##YOUR CODE GOES HERE##\"\n",
    "pickle.dump(tokenizer, open(M_name + \".pkl\", \"wb\"))\n",
    "filepath = M_name + '.h5'\n",
    "tf.keras.models.save_model(model, filepath, include_optimizer = True, save_format = 'h5', overwrite = True)\n",
    "print(\"Size of the saved model :\", os.stat(filepath).st_size, \"bytes\")"
   ]
  },
  {
   "cell_type": "markdown",
   "metadata": {
    "id": "vLRR9TMttHi8"
   },
   "source": [
    "Double-click **here** for the solution.\n",
    "\n",
    "<!-- \n",
    "M_name = \"My_model\"\n",
    "-->\n"
   ]
  },
  {
   "cell_type": "markdown",
   "metadata": {
    "id": "r9vAYG79tdco"
   },
   "source": [
    "Let's find a set of predictions based on our model. We will enter the `threshold` value (`0.5`) which will help us to mark correctly and incorrectly predicted labels. In addition, we will build a `classification report` (as for the previous studied ML models - see `Part A`) and draw the `confusion matrix`.\n"
   ]
  },
  {
   "cell_type": "code",
   "execution_count": null,
   "metadata": {
    "id": "wdLobcYSS26B"
   },
   "outputs": [],
   "source": [
    "y_pred_bLSTM = model.predict(test_set)\n",
    "\n",
    "y_prediction = [0] * y_pred_bLSTM.shape[0]\n",
    "for ind, item in enumerate(y_pred_bLSTM):\n",
    "    if item > threshold:\n",
    "        y_prediction[ind] = 1\n",
    "    else:\n",
    "        y_prediction[ind] = 0\n",
    "\n",
    "conf_m_bLSTM = confusion_matrix(test_labels, y_prediction)\n",
    "class_rep_bLSTM = classification_report(test_labels, y_prediction)\n",
    "print('\\t\\t\\tClassification report:\\n\\n', class_rep_bLSTM, '\\n')\n",
    "plot_conf_matr(conf_m_bLSTM, classes = ['Spam','Ham'], normalize = False, title = 'Confusion matrix for bLSTM')"
   ]
  },
  {
   "cell_type": "markdown",
   "metadata": {
    "id": "svOPMnE4Qfxm"
   },
   "source": [
    "Let's check our trained model on the real messages which you can create yourself.\n"
   ]
  },
  {
   "cell_type": "code",
   "execution_count": null,
   "metadata": {
    "id": "89MdFnIxG2Hb"
   },
   "outputs": [],
   "source": [
    "# You can change this message (as any short sentence) yourself\n",
    "message_example = [\"Darling, please give me a cup of tea\"] \n",
    "\n",
    "message_example_tp = pad_sequences(tokenizer.texts_to_sequences(message_example),\n",
    "                                   maxlen = max_len,\n",
    "                                   padding = padding_type,\n",
    "                                   truncating = trunc_type)\n",
    "\n",
    "pred = float(model.predict(message_example_tp))\n",
    "if (pred > threshold):\n",
    "    print (\"This message is a real text\")\n",
    "else:\n",
    "    print(\"This message is a spam message\")"
   ]
  },
  {
   "cell_type": "markdown",
   "metadata": {
    "id": "AsKaBIr0XFmN"
   },
   "source": [
    "Through this article, you will be able to understand and create a text classification model using LSTM architecture. In future articles, we will see other text classification techniques and other Natural Langauge Processing models.\n",
    "\n",
    "Moreover, you have learnt both the Machine Learning (ML) and Deep Learning (DL) models to solve the SPAM classification task.\n"
   ]
  },
  {
   "cell_type": "markdown",
   "metadata": {
    "id": "iEbNXiqmTTh0"
   },
   "source": [
    "## Author\n"
   ]
  },
  {
   "cell_type": "markdown",
   "metadata": {
    "id": "6_1ZOvXKTTh0"
   },
   "source": [
    "[Sergii Kavun](https://www.linkedin.com/in/sergii-kavun/?utm_medium=Exinfluencer&utm_source=Exinfluencer&utm_content=000026UJ&utm_term=10006555&utm_id=NA-SkillsNetwork-Channel-SkillsNetworkQuickLabsAdvanced_ML_DL_spam_classification_L427910497-2022-01-01)\n"
   ]
  },
  {
   "cell_type": "markdown",
   "metadata": {
    "id": "bHpM3GyTTTh2"
   },
   "source": [
    "## Change Log\n"
   ]
  },
  {
   "cell_type": "markdown",
   "metadata": {
    "id": "mrgMUa_ETTh2"
   },
   "source": [
    "| Date (YYYY-MM-DD) | Version | Changed By    | Change Description   |\n",
    "| ----------------- | ------- | ------------- | -------------------- |\n",
    "| 2021-07-11        | 1.0     | Kavun, Sergii | Code improving       |\n",
    "| 2021-07-06        | 0.21    | Kavun, Sergii | Code refactoring     |\n",
    "| 2021-07-03        | 0.2     | Kavun, Sergii | Translate to english |\n",
    "| 2021-07-01        | 0.1     | Kavun, Sergii | Created Lab          |\n"
   ]
  },
  {
   "cell_type": "markdown",
   "metadata": {
    "id": "Ma5EMufCTTh2"
   },
   "source": [
    "Copyright © 2021 IBM Corporation. All rights reserved.\n"
   ]
  }
 ],
 "metadata": {
  "accelerator": "GPU",
  "colab": {
   "collapsed_sections": [],
   "name": "Advanced_ML_DL_spam_classification_L4.ipynb",
   "provenance": [],
   "toc_visible": true
  },
  "kernelspec": {
   "display_name": "Python",
   "language": "python",
   "name": "conda-env-python-py"
  },
  "language_info": {
   "codemirror_mode": {
    "name": "ipython",
    "version": 3
   },
   "file_extension": ".py",
   "mimetype": "text/x-python",
   "name": "python",
   "nbconvert_exporter": "python",
   "pygments_lexer": "ipython3",
   "version": "3.7.12"
  }
 },
 "nbformat": 4,
 "nbformat_minor": 4
}
